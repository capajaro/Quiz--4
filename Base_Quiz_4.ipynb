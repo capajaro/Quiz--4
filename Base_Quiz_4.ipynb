{
  "nbformat": 4,
  "nbformat_minor": 5,
  "metadata": {
    "kernelspec": {
      "display_name": "Python 3",
      "language": "python",
      "name": "python3"
    },
    "language_info": {
      "codemirror_mode": {
        "name": "ipython",
        "version": 3
      },
      "file_extension": ".py",
      "mimetype": "text/x-python",
      "name": "python",
      "nbconvert_exporter": "python",
      "pygments_lexer": "ipython3",
      "version": "3.7.9"
    },
    "papermill": {
      "default_parameters": {},
      "duration": 314.593042,
      "end_time": "2021-04-18T17:07:22.548316",
      "environment_variables": {},
      "exception": null,
      "input_path": "__notebook__.ipynb",
      "output_path": "__notebook__.ipynb",
      "parameters": {},
      "start_time": "2021-04-18T17:02:07.955274",
      "version": "2.3.2"
    },
    "colab": {
      "name": "Base_Quiz_4.ipynb",
      "provenance": [],
      "toc_visible": true
    }
  },
  "cells": [
    {
      "cell_type": "markdown",
      "metadata": {
        "papermill": {
          "duration": 0.057751,
          "end_time": "2021-04-18T17:02:14.886555",
          "exception": false,
          "start_time": "2021-04-18T17:02:14.828804",
          "status": "completed"
        },
        "tags": [],
        "id": "intermediate-tobacco"
      },
      "source": [
        "# Natural Language Processing with Disaster Tweets\n",
        "\n",
        "![image.png](attachment:3957ecf9-103b-498d-bfae-45f8a2d51e23.png)\n",
        "\n",
        "In this notebook we are going to predict whether a Twitter tweet is about a real occuring disaster or it isn't. For further explanation check out the Kaggle Competition Description. https://www.kaggle.com/c/nlp-getting-started \n",
        "\n",
        "**Best results: 80.05% (f1 score)**\n",
        "\n",
        "# Agenda📃:\n",
        "1. First Look\n",
        "2. Data Cleaning and Text Preprocessing\n",
        "3. Data Exploration\n",
        "4. Base Model\n",
        "* 4.1 Bag of Words Model\n",
        "* 4.2 Embedding Model\n",
        "* 4.3 Meta Features Model\n",
        "5. Stacked Model\n",
        "6. Submission\n"
      ],
      "id": "intermediate-tobacco"
    },
    {
      "cell_type": "code",
      "metadata": {
        "_cell_guid": "b1076dfc-b9ad-4769-8c92-a6c4dae69d19",
        "_uuid": "8f2839f25d086af736a60e9eeb907d3b93b6e0e5",
        "execution": {
          "iopub.execute_input": "2021-04-18T17:02:15.003029Z",
          "iopub.status.busy": "2021-04-18T17:02:15.001416Z",
          "iopub.status.idle": "2021-04-18T17:02:16.094331Z",
          "shell.execute_reply": "2021-04-18T17:02:16.095117Z"
        },
        "papermill": {
          "duration": 1.152896,
          "end_time": "2021-04-18T17:02:16.095450",
          "exception": false,
          "start_time": "2021-04-18T17:02:14.942554",
          "status": "completed"
        },
        "tags": [],
        "id": "applicable-coordinate"
      },
      "source": [
        " # linear algebra and modeling\n",
        "import numpy as np\n",
        "from sklearn.model_selection import train_test_split\n",
        "# data processing, CSV file I/O (e.g. pd.read_csv)\n",
        "import pandas as pd\n",
        "#visualization\n",
        "import matplotlib.pyplot as plt\n",
        "%matplotlib inline\n",
        "import seaborn as sns\n",
        "import spacy"
      ],
      "id": "applicable-coordinate",
      "execution_count": 118,
      "outputs": []
    },
    {
      "cell_type": "code",
      "metadata": {
        "execution": {
          "iopub.execute_input": "2021-04-18T17:02:16.213200Z",
          "iopub.status.busy": "2021-04-18T17:02:16.212145Z",
          "iopub.status.idle": "2021-04-18T17:02:16.302285Z",
          "shell.execute_reply": "2021-04-18T17:02:16.301224Z"
        },
        "papermill": {
          "duration": 0.150162,
          "end_time": "2021-04-18T17:02:16.302466",
          "exception": false,
          "start_time": "2021-04-18T17:02:16.152304",
          "status": "completed"
        },
        "tags": [],
        "id": "spare-genetics"
      },
      "source": [
        "#train and test set\n",
        "Data = pd.read_excel(\"https://github.com/capajaro/Quiz--4/blob/main/Data_yelp.xlsx?raw=true\", header = None)\n",
        "Data.columns = ['text', 'target']\n",
        "\n",
        "X = Data.text\n",
        "y = Data.target\n",
        "\n",
        "train_X,test_X,train_y,test_y = train_test_split(X,y,test_size=0.3, random_state=10);\n",
        "\n",
        "train = pd.DataFrame()\n",
        "train['text'] = train_X\n",
        "train['target'] = train_y\n",
        "\n",
        "test = pd.DataFrame()\n",
        "test['text'] = test_X\n",
        "test['target'] = test_y\n"
      ],
      "id": "spare-genetics",
      "execution_count": 119,
      "outputs": []
    },
    {
      "cell_type": "markdown",
      "metadata": {
        "papermill": {
          "duration": 0.056224,
          "end_time": "2021-04-18T17:02:16.418209",
          "exception": false,
          "start_time": "2021-04-18T17:02:16.361985",
          "status": "completed"
        },
        "tags": [],
        "id": "thick-validity"
      },
      "source": [
        "# 1. First Look🔎"
      ],
      "id": "thick-validity"
    },
    {
      "cell_type": "markdown",
      "metadata": {
        "papermill": {
          "duration": 0.055834,
          "end_time": "2021-04-18T17:02:16.532096",
          "exception": false,
          "start_time": "2021-04-18T17:02:16.476262",
          "status": "completed"
        },
        "tags": [],
        "id": "first-converter"
      },
      "source": [
        "Our Data doesn't seem too complicated. With just a hand full of features we mainly will focus on the text processing and evaluation part."
      ],
      "id": "first-converter"
    },
    {
      "cell_type": "code",
      "metadata": {
        "execution": {
          "iopub.execute_input": "2021-04-18T17:02:16.802744Z",
          "iopub.status.busy": "2021-04-18T17:02:16.801580Z",
          "iopub.status.idle": "2021-04-18T17:02:16.806937Z",
          "shell.execute_reply": "2021-04-18T17:02:16.807739Z"
        },
        "papermill": {
          "duration": 0.069727,
          "end_time": "2021-04-18T17:02:16.807978",
          "exception": false,
          "start_time": "2021-04-18T17:02:16.738251",
          "status": "completed"
        },
        "tags": [],
        "colab": {
          "base_uri": "https://localhost:8080/"
        },
        "id": "promising-mattress",
        "outputId": "992c9275-c890-45b8-ab39-da6bd8b44fa4"
      },
      "source": [
        "#shape\n",
        "print(f\"El dataset de entrenamiento tiene %0.0f entradas\" %(list(train.shape)[0]))\n",
        "print(f\"El dataset de validacion tiene %0.0f entradas\" %(list(test.shape)[0]))"
      ],
      "id": "promising-mattress",
      "execution_count": 120,
      "outputs": [
        {
          "output_type": "stream",
          "text": [
            "El dataset de entrenamiento tiene 700 entradas\n",
            "El dataset de validacion tiene 300 entradas\n"
          ],
          "name": "stdout"
        }
      ]
    },
    {
      "cell_type": "markdown",
      "metadata": {
        "papermill": {
          "duration": 0.066132,
          "end_time": "2021-04-18T17:02:16.957956",
          "exception": false,
          "start_time": "2021-04-18T17:02:16.891824",
          "status": "completed"
        },
        "tags": [],
        "id": "vertical-harrison"
      },
      "source": [
        "We have a slight majority of \"non-disaster\"-Tweets. We should keep that in mind for our EDA."
      ],
      "id": "vertical-harrison"
    },
    {
      "cell_type": "code",
      "metadata": {
        "execution": {
          "iopub.execute_input": "2021-04-18T17:02:17.076029Z",
          "iopub.status.busy": "2021-04-18T17:02:17.075255Z",
          "iopub.status.idle": "2021-04-18T17:02:17.249788Z",
          "shell.execute_reply": "2021-04-18T17:02:17.249089Z"
        },
        "papermill": {
          "duration": 0.234868,
          "end_time": "2021-04-18T17:02:17.249934",
          "exception": false,
          "start_time": "2021-04-18T17:02:17.015066",
          "status": "completed"
        },
        "tags": [],
        "colab": {
          "base_uri": "https://localhost:8080/",
          "height": 405
        },
        "id": "southeast-floor",
        "outputId": "b6c7bbc6-eaab-4b40-9130-2bb325c04c10"
      },
      "source": [
        "#distribution target\n",
        "sns.set_style(\"darkgrid\")\n",
        "plt.figure(figsize=(8, 6))\n",
        "sns.countplot(x=train.target)"
      ],
      "id": "southeast-floor",
      "execution_count": 121,
      "outputs": [
        {
          "output_type": "execute_result",
          "data": {
            "text/plain": [
              "<matplotlib.axes._subplots.AxesSubplot at 0x7f9546a60910>"
            ]
          },
          "metadata": {
            "tags": []
          },
          "execution_count": 121
        },
        {
          "output_type": "display_data",
          "data": {
            "image/png": "[encoded data removed]",
            "text/plain": [
              "<Figure size 576x432 with 1 Axes>"
            ]
          },
          "metadata": {
            "tags": []
          }
        }
      ]
    },
    {
      "cell_type": "markdown",
      "metadata": {
        "papermill": {
          "duration": 0.057319,
          "end_time": "2021-04-18T17:02:17.365273",
          "exception": false,
          "start_time": "2021-04-18T17:02:17.307954",
          "status": "completed"
        },
        "tags": [],
        "id": "numeric-circular"
      },
      "source": [
        "# 2. Data Cleaning and Text Preprocessing🧹"
      ],
      "id": "numeric-circular"
    },
    {
      "cell_type": "markdown",
      "metadata": {
        "papermill": {
          "duration": 0.06099,
          "end_time": "2021-04-18T17:02:17.485229",
          "exception": false,
          "start_time": "2021-04-18T17:02:17.424239",
          "status": "completed"
        },
        "tags": [],
        "id": "adjusted-african"
      },
      "source": [
        "First we want to clear all \"nan\"-values. Afterwards we try to simplify our Tweets (\"text\"-feature) the best way possible."
      ],
      "id": "adjusted-african"
    },
    {
      "cell_type": "code",
      "metadata": {
        "execution": {
          "iopub.execute_input": "2021-04-18T17:02:18.195252Z",
          "iopub.status.busy": "2021-04-18T17:02:18.194167Z",
          "iopub.status.idle": "2021-04-18T17:02:19.209656Z",
          "shell.execute_reply": "2021-04-18T17:02:19.208950Z"
        },
        "papermill": {
          "duration": 1.083457,
          "end_time": "2021-04-18T17:02:19.209829",
          "exception": false,
          "start_time": "2021-04-18T17:02:18.126372",
          "status": "completed"
        },
        "tags": [],
        "colab": {
          "base_uri": "https://localhost:8080/"
        },
        "id": "embedded-connectivity",
        "outputId": "e098fdb4-b7ba-490b-cbbf-448711b46e3c"
      },
      "source": [
        "# tools for text processing\n",
        "import re\n",
        "import string\n",
        "from nltk.corpus import stopwords\n",
        "import nltk\n",
        "nltk.download('stopwords')\n",
        "  "
      ],
      "id": "embedded-connectivity",
      "execution_count": 122,
      "outputs": [
        {
          "output_type": "stream",
          "text": [
            "[nltk_data] Downloading package stopwords to /root/nltk_data...\n",
            "[nltk_data]   Package stopwords is already up-to-date!\n"
          ],
          "name": "stdout"
        },
        {
          "output_type": "execute_result",
          "data": {
            "text/plain": [
              "True"
            ]
          },
          "metadata": {
            "tags": []
          },
          "execution_count": 122
        }
      ]
    },
    {
      "cell_type": "code",
      "metadata": {
        "execution": {
          "iopub.execute_input": "2021-04-18T17:02:19.340561Z",
          "iopub.status.busy": "2021-04-18T17:02:19.338865Z",
          "iopub.status.idle": "2021-04-18T17:02:19.347390Z",
          "shell.execute_reply": "2021-04-18T17:02:19.346624Z"
        },
        "papermill": {
          "duration": 0.075276,
          "end_time": "2021-04-18T17:02:19.347541",
          "exception": false,
          "start_time": "2021-04-18T17:02:19.272265",
          "status": "completed"
        },
        "tags": [],
        "colab": {
          "base_uri": "https://localhost:8080/",
          "height": 204
        },
        "id": "japanese-germany",
        "outputId": "e24b3ce6-f349-4c10-ea2e-8c670d0dad30"
      },
      "source": [
        "#merge for operational reasons\n",
        "df = pd.concat([train,test])\n",
        "ntrain = train.shape[0]\n",
        "ntest = test.shape[0]\n",
        "df.head()"
      ],
      "id": "japanese-germany",
      "execution_count": 123,
      "outputs": [
        {
          "output_type": "execute_result",
          "data": {
            "text/html": [
              "<div>\n",
              "<style scoped>\n",
              "    .dataframe tbody tr th:only-of-type {\n",
              "        vertical-align: middle;\n",
              "    }\n",
              "\n",
              "    .dataframe tbody tr th {\n",
              "        vertical-align: top;\n",
              "    }\n",
              "\n",
              "    .dataframe thead th {\n",
              "        text-align: right;\n",
              "    }\n",
              "</style>\n",
              "<table border=\"1\" class=\"dataframe\">\n",
              "  <thead>\n",
              "    <tr style=\"text-align: right;\">\n",
              "      <th></th>\n",
              "      <th>text</th>\n",
              "      <th>target</th>\n",
              "    </tr>\n",
              "  </thead>\n",
              "  <tbody>\n",
              "    <tr>\n",
              "      <th>742</th>\n",
              "      <td>I'm not sure how long we stood there but it wa...</td>\n",
              "      <td>0</td>\n",
              "    </tr>\n",
              "    <tr>\n",
              "      <th>676</th>\n",
              "      <td>I can't wait to go back.</td>\n",
              "      <td>1</td>\n",
              "    </tr>\n",
              "    <tr>\n",
              "      <th>571</th>\n",
              "      <td>We recently witnessed her poor quality of mana...</td>\n",
              "      <td>0</td>\n",
              "    </tr>\n",
              "    <tr>\n",
              "      <th>99</th>\n",
              "      <td>On the up side, their cafe serves really good ...</td>\n",
              "      <td>1</td>\n",
              "    </tr>\n",
              "    <tr>\n",
              "      <th>78</th>\n",
              "      <td>Today is the second time I've been to their lu...</td>\n",
              "      <td>1</td>\n",
              "    </tr>\n",
              "  </tbody>\n",
              "</table>\n",
              "</div>"
            ],
            "text/plain": [
              "                                                  text  target\n",
              "742  I'm not sure how long we stood there but it wa...       0\n",
              "676                           I can't wait to go back.       1\n",
              "571  We recently witnessed her poor quality of mana...       0\n",
              "99   On the up side, their cafe serves really good ...       1\n",
              "78   Today is the second time I've been to their lu...       1"
            ]
          },
          "metadata": {
            "tags": []
          },
          "execution_count": 123
        }
      ]
    },
    {
      "cell_type": "code",
      "metadata": {
        "execution": {
          "iopub.execute_input": "2021-04-18T17:02:19.474290Z",
          "iopub.status.busy": "2021-04-18T17:02:19.473550Z",
          "iopub.status.idle": "2021-04-18T17:02:19.477336Z",
          "shell.execute_reply": "2021-04-18T17:02:19.476548Z"
        },
        "papermill": {
          "duration": 0.070463,
          "end_time": "2021-04-18T17:02:19.477478",
          "exception": false,
          "start_time": "2021-04-18T17:02:19.407015",
          "status": "completed"
        },
        "tags": [],
        "id": "wireless-estimate"
      },
      "source": [
        "# function to Make text lowercase, remove text in square brackets,remove links,remove punctuation and remove words containing numbers\n",
        "# Special thanks to https://www.kaggle.com/andreshg for this function. Check his kernel out - it's great!\n",
        "def clean_text(text):\n",
        "    text = str(text).lower()\n",
        "    text = re.sub('\\[.*?\\]', '', text)\n",
        "    text = re.sub('https?://\\S+|www\\.\\S+', '', text)\n",
        "    text = re.sub('<.*?>+', '', text)\n",
        "    text = re.sub('[%s]' % re.escape(string.punctuation), '', text)\n",
        "    text = re.sub('\\n', '', text)\n",
        "    text = re.sub('\\w*\\d\\w*', '', text)\n",
        "    return text"
      ],
      "id": "wireless-estimate",
      "execution_count": 125,
      "outputs": []
    },
    {
      "cell_type": "code",
      "metadata": {
        "execution": {
          "iopub.execute_input": "2021-04-18T17:02:19.607572Z",
          "iopub.status.busy": "2021-04-18T17:02:19.606758Z",
          "iopub.status.idle": "2021-04-18T17:02:19.617187Z",
          "shell.execute_reply": "2021-04-18T17:02:19.617933Z"
        },
        "papermill": {
          "duration": 0.079282,
          "end_time": "2021-04-18T17:02:19.618134",
          "exception": false,
          "start_time": "2021-04-18T17:02:19.538852",
          "status": "completed"
        },
        "tags": [],
        "id": "regular-beverage"
      },
      "source": [
        "#define stopword collection\n",
        "stop_words = stopwords.words('english') + [\"u\", \"im\", \"ur\", \"dont\", \"doin\", \"ure\"]"
      ],
      "id": "regular-beverage",
      "execution_count": 128,
      "outputs": []
    },
    {
      "cell_type": "code",
      "metadata": {
        "execution": {
          "iopub.execute_input": "2021-04-18T17:02:19.751025Z",
          "iopub.status.busy": "2021-04-18T17:02:19.749985Z",
          "iopub.status.idle": "2021-04-18T17:02:19.753346Z",
          "shell.execute_reply": "2021-04-18T17:02:19.752789Z"
        },
        "papermill": {
          "duration": 0.071242,
          "end_time": "2021-04-18T17:02:19.753489",
          "exception": false,
          "start_time": "2021-04-18T17:02:19.682247",
          "status": "completed"
        },
        "tags": [],
        "id": "facial-suffering"
      },
      "source": [
        "#final cleaning function\n",
        "def preprocess_data(text):\n",
        "    # Clean puntuation, urls, and so on\n",
        "    text = clean_text(text)\n",
        "    # Remove stopwords\n",
        "    text = ' '.join(word for word in text.split(' ') if word not in stop_words)\n",
        "    return text"
      ],
      "id": "facial-suffering",
      "execution_count": 127,
      "outputs": []
    },
    {
      "cell_type": "code",
      "metadata": {
        "execution": {
          "iopub.execute_input": "2021-04-18T17:02:19.889831Z",
          "iopub.status.busy": "2021-04-18T17:02:19.884407Z",
          "iopub.status.idle": "2021-04-18T17:02:20.635957Z",
          "shell.execute_reply": "2021-04-18T17:02:20.635342Z"
        },
        "papermill": {
          "duration": 0.822185,
          "end_time": "2021-04-18T17:02:20.636119",
          "exception": false,
          "start_time": "2021-04-18T17:02:19.813934",
          "status": "completed"
        },
        "tags": [],
        "id": "minus-choice"
      },
      "source": [
        "#create processed \"clean_txt\" feature\n",
        "df[\"clean_txt\"] = df[\"text\"].apply(preprocess_data)"
      ],
      "id": "minus-choice",
      "execution_count": 129,
      "outputs": []
    },
    {
      "cell_type": "code",
      "metadata": {
        "execution": {
          "iopub.execute_input": "2021-04-18T17:02:20.767958Z",
          "iopub.status.busy": "2021-04-18T17:02:20.764308Z",
          "iopub.status.idle": "2021-04-18T17:02:20.772731Z",
          "shell.execute_reply": "2021-04-18T17:02:20.772037Z"
        },
        "papermill": {
          "duration": 0.074446,
          "end_time": "2021-04-18T17:02:20.772878",
          "exception": false,
          "start_time": "2021-04-18T17:02:20.698432",
          "status": "completed"
        },
        "tags": [],
        "colab": {
          "base_uri": "https://localhost:8080/"
        },
        "id": "interim-decade",
        "outputId": "1661ebb0-4087-4de2-9e3e-57c74120eaf9"
      },
      "source": [
        "#comparison of original and processed text\n",
        "df[[\"text\",\"clean_txt\"]].head().values\n"
      ],
      "id": "interim-decade",
      "execution_count": 130,
      "outputs": [
        {
          "output_type": "execute_result",
          "data": {
            "text/plain": [
              "array([[\"I'm not sure how long we stood there but it was long enough for me to begin to feel awkwardly out of place.\",\n",
              "        'sure long stood long enough begin feel awkwardly place'],\n",
              "       [\"I can't wait to go back.\", 'cant wait go back'],\n",
              "       ['We recently witnessed her poor quality of management towards other guests as well.',\n",
              "        'recently witnessed poor quality management towards guests well'],\n",
              "       ['On the up side, their cafe serves really good food.',\n",
              "        'side cafe serves really good food'],\n",
              "       [\"Today is the second time I've been to their lunch buffet and it was pretty good.\",\n",
              "        'today second time ive lunch buffet pretty good']], dtype=object)"
            ]
          },
          "metadata": {
            "tags": []
          },
          "execution_count": 130
        }
      ]
    },
    {
      "cell_type": "markdown",
      "metadata": {
        "papermill": {
          "duration": 0.059908,
          "end_time": "2021-04-18T17:02:20.892504",
          "exception": false,
          "start_time": "2021-04-18T17:02:20.832596",
          "status": "completed"
        },
        "tags": [],
        "id": "sound-james"
      },
      "source": [
        "# 3. Data Exploration🧭"
      ],
      "id": "sound-james"
    },
    {
      "cell_type": "markdown",
      "metadata": {
        "papermill": {
          "duration": 0.063762,
          "end_time": "2021-04-18T17:02:21.017338",
          "exception": false,
          "start_time": "2021-04-18T17:02:20.953576",
          "status": "completed"
        },
        "tags": [],
        "id": "funny-flash"
      },
      "source": [
        "Arriving at the EDA part of our kernel we try to find diffrences in the text structure of our tweets. We also will use these insights as new meta features for one of our models.\n",
        "We will investigate:\n",
        "* length of each message\n",
        "* number of words in each message\n",
        "* average word length\n",
        "* unique words in each message\n",
        "* number of stopwords in each message\n",
        "* number of \"#\"'s\n",
        "* number of \"@\"'s"
      ],
      "id": "funny-flash"
    },
    {
      "cell_type": "code",
      "metadata": {
        "execution": {
          "iopub.execute_input": "2021-04-18T17:02:21.155654Z",
          "iopub.status.busy": "2021-04-18T17:02:21.154958Z",
          "iopub.status.idle": "2021-04-18T17:02:21.655198Z",
          "shell.execute_reply": "2021-04-18T17:02:21.654467Z"
        },
        "papermill": {
          "duration": 0.577844,
          "end_time": "2021-04-18T17:02:21.655355",
          "exception": false,
          "start_time": "2021-04-18T17:02:21.077511",
          "status": "completed"
        },
        "tags": [],
        "colab": {
          "base_uri": "https://localhost:8080/",
          "height": 405
        },
        "id": "noble-university",
        "outputId": "842c064d-b144-4caf-fd6d-16e928aea059"
      },
      "source": [
        "#Length of each message\n",
        "df.text = df.text.astype('str')\n",
        "train.text = train.text.astype('str')\n",
        "test.text = test.text.astype('str')\n",
        "\n",
        "df[\"Message_Length\"] = df.text.apply(lambda x: len(x))\n",
        "\n",
        "plt.figure(figsize=(8, 6))\n",
        "train.text.loc[train.target==1].apply(lambda x: len(x)).plot(bins=35, kind='hist', color='blue', label='Positive', alpha=0.4)\n",
        "train.text.loc[train.target==0].apply(lambda x: len(x)).plot(bins=35, kind='hist', color='red', label='Negative', alpha=0.3)\n",
        "plt.legend()\n",
        "plt.xlabel(\"Message Length\")"
      ],
      "id": "noble-university",
      "execution_count": 135,
      "outputs": [
        {
          "output_type": "execute_result",
          "data": {
            "text/plain": [
              "Text(0.5, 0, 'Message Length')"
            ]
          },
          "metadata": {
            "tags": []
          },
          "execution_count": 135
        },
        {
          "output_type": "display_data",
          "data": {
            "image/png": "[encoded data removed]",
            "text/plain": [
              "<Figure size 576x432 with 1 Axes>"
            ]
          },
          "metadata": {
            "tags": []
          }
        }
      ]
    },
    {
      "cell_type": "code",
      "metadata": {
        "execution": {
          "iopub.execute_input": "2021-04-18T17:02:21.943789Z",
          "iopub.status.busy": "2021-04-18T17:02:21.810146Z",
          "iopub.status.idle": "2021-04-18T17:02:22.366312Z",
          "shell.execute_reply": "2021-04-18T17:02:22.366919Z"
        },
        "papermill": {
          "duration": 0.650151,
          "end_time": "2021-04-18T17:02:22.367126",
          "exception": false,
          "start_time": "2021-04-18T17:02:21.716975",
          "status": "completed"
        },
        "tags": [],
        "colab": {
          "base_uri": "https://localhost:8080/",
          "height": 405
        },
        "id": "strange-universal",
        "outputId": "c54d89c4-8c65-4224-a248-69a58ad1fb5d"
      },
      "source": [
        "# number of words in each message\n",
        "df[\"Word_Count\"] = df.text.str.split().apply(lambda x: len(x))\n",
        "\n",
        "plt.figure(figsize=(8, 6))\n",
        "train.text.loc[train.target==1].str.split().apply(lambda x: len(x)).plot(bins=25, kind='hist', color='blue', label='Positive', alpha=0.4)\n",
        "train.text.loc[train.target==0].str.split().apply(lambda x: len(x)).plot(bins=25, kind='hist', color='red', label='Negative', alpha=0.2)\n",
        "plt.legend()\n",
        "plt.xlabel(\"Word Count\")"
      ],
      "id": "strange-universal",
      "execution_count": 136,
      "outputs": [
        {
          "output_type": "execute_result",
          "data": {
            "text/plain": [
              "Text(0.5, 0, 'Word Count')"
            ]
          },
          "metadata": {
            "tags": []
          },
          "execution_count": 136
        },
        {
          "output_type": "display_data",
          "data": {
            "image/png": "[encoded data removed]",
            "text/plain": [
              "<Figure size 576x432 with 1 Axes>"
            ]
          },
          "metadata": {
            "tags": []
          }
        }
      ]
    },
    {
      "cell_type": "code",
      "metadata": {
        "execution": {
          "iopub.execute_input": "2021-04-18T17:02:22.574800Z",
          "iopub.status.busy": "2021-04-18T17:02:22.524526Z",
          "iopub.status.idle": "2021-04-18T17:02:23.377959Z",
          "shell.execute_reply": "2021-04-18T17:02:23.377274Z"
        },
        "papermill": {
          "duration": 0.937656,
          "end_time": "2021-04-18T17:02:23.378110",
          "exception": false,
          "start_time": "2021-04-18T17:02:22.440454",
          "status": "completed"
        },
        "tags": [],
        "colab": {
          "base_uri": "https://localhost:8080/",
          "height": 405
        },
        "id": "grand-relevance",
        "outputId": "96beea25-e96e-422d-ecc5-85aa6882e409"
      },
      "source": [
        "# average word length\n",
        "df[\"Avg_Word\"] = df.text.str.split().apply(lambda x: [len(i) for i in x]).map(lambda x: np.mean(x))\n",
        "\n",
        "plt.figure(figsize=(8, 6))\n",
        "train.text.loc[train.target==1].str.split().apply(lambda x: [len(i) for i in x]).map(lambda x: np.mean(x)).plot(bins=25, kind='hist', color='blue', label='Positive', alpha=0.4)\n",
        "train.text.loc[train.target==0].str.split().apply(lambda x: [len(i) for i in x]).map(lambda x: np.mean(x)).plot(bins=25, kind='hist', color='red', label='Negative', alpha=0.2)\n",
        "plt.legend()\n",
        "plt.xlabel(\"Average Word Length\")"
      ],
      "id": "grand-relevance",
      "execution_count": 138,
      "outputs": [
        {
          "output_type": "execute_result",
          "data": {
            "text/plain": [
              "Text(0.5, 0, 'Average Word Length')"
            ]
          },
          "metadata": {
            "tags": []
          },
          "execution_count": 138
        },
        {
          "output_type": "display_data",
          "data": {
            "image/png": "[encoded data removed]",
            "text/plain": [
              "<Figure size 576x432 with 1 Axes>"
            ]
          },
          "metadata": {
            "tags": []
          }
        }
      ]
    },
    {
      "cell_type": "code",
      "metadata": {
        "execution": {
          "iopub.execute_input": "2021-04-18T17:02:23.519998Z",
          "iopub.status.busy": "2021-04-18T17:02:23.519197Z",
          "iopub.status.idle": "2021-04-18T17:02:24.040299Z",
          "shell.execute_reply": "2021-04-18T17:02:24.039524Z"
        },
        "papermill": {
          "duration": 0.596544,
          "end_time": "2021-04-18T17:02:24.040466",
          "exception": false,
          "start_time": "2021-04-18T17:02:23.443922",
          "status": "completed"
        },
        "tags": [],
        "colab": {
          "base_uri": "https://localhost:8080/",
          "height": 405
        },
        "id": "aggressive-nelson",
        "outputId": "a2e567fe-26bb-4723-8c2e-a83319f8062b"
      },
      "source": [
        "# unique words in each message\n",
        "df[\"Unique_Words\"] = df.text.str.split().apply(lambda x: len(set(str(x).split())))\n",
        "plt.figure(figsize=(8, 6))\n",
        "train.text.loc[train.target==1].str.split().apply(lambda x: len(set(str(x).split()))).plot(bins=25, kind='hist', color='blue', label='Positive', alpha=0.4)\n",
        "train.text.loc[train.target==0].str.split().apply(lambda x: len(set(str(x).split()))).plot(bins=25, kind='hist', color='red', label='Negative', alpha=0.2)\n",
        "plt.legend()\n",
        "plt.xlabel(\"Unique Words\")"
      ],
      "id": "aggressive-nelson",
      "execution_count": 139,
      "outputs": [
        {
          "output_type": "execute_result",
          "data": {
            "text/plain": [
              "Text(0.5, 0, 'Unique Words')"
            ]
          },
          "metadata": {
            "tags": []
          },
          "execution_count": 139
        },
        {
          "output_type": "display_data",
          "data": {
            "image/png": "[encoded data removed]",
            "text/plain": [
              "<Figure size 576x432 with 1 Axes>"
            ]
          },
          "metadata": {
            "tags": []
          }
        }
      ]
    },
    {
      "cell_type": "code",
      "metadata": {
        "execution": {
          "iopub.execute_input": "2021-04-18T17:02:24.187388Z",
          "iopub.status.busy": "2021-04-18T17:02:24.186656Z",
          "iopub.status.idle": "2021-04-18T17:02:24.666344Z",
          "shell.execute_reply": "2021-04-18T17:02:24.666918Z"
        },
        "papermill": {
          "duration": 0.557616,
          "end_time": "2021-04-18T17:02:24.667105",
          "exception": false,
          "start_time": "2021-04-18T17:02:24.109489",
          "status": "completed"
        },
        "tags": [],
        "colab": {
          "base_uri": "https://localhost:8080/",
          "height": 405
        },
        "id": "corrected-amazon",
        "outputId": "153cfcf8-302a-4911-cd31-67f5a4579986"
      },
      "source": [
        "#number of stopwords in each message\n",
        "from wordcloud import STOPWORDS\n",
        "df[\"Stopwords\"] = df.text.apply(lambda x: len([w for w in str(x).lower().split() if w in STOPWORDS]))\n",
        "\n",
        "plt.figure(figsize=(8, 6))\n",
        "train.text.loc[train.target==1].apply(lambda x: len([w for w in str(x).lower().split() if w in STOPWORDS])).plot(bins=20, kind='hist', color='blue', label='Positive', alpha=0.4)\n",
        "train.text.loc[train.target==0].apply(lambda x: len([w for w in str(x).lower().split() if w in STOPWORDS])).plot(bins=20, kind='hist', color='red', label='Negative', alpha=0.2)\n",
        "plt.legend()\n",
        "plt.xlabel(\"Count Stopwords\")"
      ],
      "id": "corrected-amazon",
      "execution_count": 140,
      "outputs": [
        {
          "output_type": "execute_result",
          "data": {
            "text/plain": [
              "Text(0.5, 0, 'Count Stopwords')"
            ]
          },
          "metadata": {
            "tags": []
          },
          "execution_count": 140
        },
        {
          "output_type": "display_data",
          "data": {
            "image/png": "[encoded data removed]",
            "text/plain": [
              "<Figure size 576x432 with 1 Axes>"
            ]
          },
          "metadata": {
            "tags": []
          }
        }
      ]
    },
    {
      "cell_type": "code",
      "metadata": {
        "execution": {
          "iopub.execute_input": "2021-04-18T17:02:26.252206Z",
          "iopub.status.busy": "2021-04-18T17:02:26.251452Z",
          "iopub.status.idle": "2021-04-18T17:02:26.254956Z",
          "shell.execute_reply": "2021-04-18T17:02:26.254369Z"
        },
        "papermill": {
          "duration": 0.082268,
          "end_time": "2021-04-18T17:02:26.255104",
          "exception": false,
          "start_time": "2021-04-18T17:02:26.172836",
          "status": "completed"
        },
        "tags": [],
        "id": "virtual-collectible"
      },
      "source": [
        "#seperate to train and test set again\n",
        "train = df[:ntrain]\n",
        "test = df[ntrain:]\n",
        "train.to_csv( 'Train_Cleaned.csv',index= False)\n",
        "train.to_csv( 'Test_Cleaned.csv',index= False)\n",
        "df.to_csv( 'Data_Cleaned.csv',index= False)"
      ],
      "id": "virtual-collectible",
      "execution_count": 150,
      "outputs": []
    },
    {
      "cell_type": "markdown",
      "metadata": {
        "papermill": {
          "duration": 0.071472,
          "end_time": "2021-04-18T17:02:26.397189",
          "exception": false,
          "start_time": "2021-04-18T17:02:26.325717",
          "status": "completed"
        },
        "tags": [],
        "id": "chinese-fifteen"
      },
      "source": [
        "When it comes to word appearance we use our \"cleaned\" Tweets."
      ],
      "id": "chinese-fifteen"
    },
    {
      "cell_type": "code",
      "metadata": {
        "execution": {
          "iopub.execute_input": "2021-04-18T17:02:26.551914Z",
          "iopub.status.busy": "2021-04-18T17:02:26.551187Z",
          "iopub.status.idle": "2021-04-18T17:02:26.553911Z",
          "shell.execute_reply": "2021-04-18T17:02:26.554538Z"
        },
        "papermill": {
          "duration": 0.081746,
          "end_time": "2021-04-18T17:02:26.554749",
          "exception": false,
          "start_time": "2021-04-18T17:02:26.473003",
          "status": "completed"
        },
        "tags": [],
        "id": "oriental-slovakia"
      },
      "source": [
        "#function to process each text seperatly \n",
        "def create_corpus(target):\n",
        "    corpus=[]\n",
        "    \n",
        "    for x in train[train['target']==target]['clean_txt'].str.split():\n",
        "        for i in x:\n",
        "            corpus.append(i)\n",
        "    return corpus"
      ],
      "id": "oriental-slovakia",
      "execution_count": 147,
      "outputs": []
    },
    {
      "cell_type": "code",
      "metadata": {
        "execution": {
          "iopub.execute_input": "2021-04-18T17:02:26.703667Z",
          "iopub.status.busy": "2021-04-18T17:02:26.702983Z",
          "iopub.status.idle": "2021-04-18T17:02:26.740157Z",
          "shell.execute_reply": "2021-04-18T17:02:26.740673Z"
        },
        "papermill": {
          "duration": 0.112051,
          "end_time": "2021-04-18T17:02:26.740891",
          "exception": false,
          "start_time": "2021-04-18T17:02:26.628840",
          "status": "completed"
        },
        "tags": [],
        "id": "falling-error"
      },
      "source": [
        "# make a list of each word and how often it occurs for non-disaster tweets\n",
        "from collections import defaultdict\n",
        "\n",
        "corpus=create_corpus(0)\n",
        "\n",
        "dic=defaultdict(int)\n",
        "for word in corpus:\n",
        "        dic[word]+=1\n",
        "        \n",
        "top=sorted(dic.items(), key=lambda x:x[1],reverse=True)[:10]"
      ],
      "id": "falling-error",
      "execution_count": 151,
      "outputs": []
    },
    {
      "cell_type": "code",
      "metadata": {
        "execution": {
          "iopub.execute_input": "2021-04-18T17:02:26.892952Z",
          "iopub.status.busy": "2021-04-18T17:02:26.892263Z",
          "iopub.status.idle": "2021-04-18T17:02:27.103256Z",
          "shell.execute_reply": "2021-04-18T17:02:27.103771Z"
        },
        "papermill": {
          "duration": 0.286586,
          "end_time": "2021-04-18T17:02:27.103972",
          "exception": false,
          "start_time": "2021-04-18T17:02:26.817386",
          "status": "completed"
        },
        "tags": [],
        "colab": {
          "base_uri": "https://localhost:8080/",
          "height": 407
        },
        "id": "variable-improvement",
        "outputId": "41017adf-35c7-4a23-d833-3d340ff317be"
      },
      "source": [
        "#plot\n",
        "plt.figure(figsize=(8, 6))\n",
        "x,y=zip(*top)\n",
        "plt.bar(x,y, color=\"red\")\n",
        "plt.title(label=\"Most common words Negative Reviews\")"
      ],
      "id": "variable-improvement",
      "execution_count": 156,
      "outputs": [
        {
          "output_type": "execute_result",
          "data": {
            "text/plain": [
              "Text(0.5, 1.0, 'Most common words Negative Reviews')"
            ]
          },
          "metadata": {
            "tags": []
          },
          "execution_count": 156
        },
        {
          "output_type": "display_data",
          "data": {
            "image/png": "[encoded data removed]",
            "text/plain": [
              "<Figure size 576x432 with 1 Axes>"
            ]
          },
          "metadata": {
            "tags": []
          }
        }
      ]
    },
    {
      "cell_type": "code",
      "metadata": {
        "execution": {
          "iopub.execute_input": "2021-04-18T17:02:27.253873Z",
          "iopub.status.busy": "2021-04-18T17:02:27.253160Z",
          "iopub.status.idle": "2021-04-18T17:02:27.285488Z",
          "shell.execute_reply": "2021-04-18T17:02:27.286037Z"
        },
        "papermill": {
          "duration": 0.108752,
          "end_time": "2021-04-18T17:02:27.286245",
          "exception": false,
          "start_time": "2021-04-18T17:02:27.177493",
          "status": "completed"
        },
        "tags": [],
        "id": "packed-russian"
      },
      "source": [
        "# make a list of each word and how often it occurs for disaster tweets\n",
        "corpus=create_corpus(1)\n",
        "\n",
        "dic=defaultdict(int)\n",
        "for word in corpus:\n",
        "        dic[word]+=1\n",
        "        \n",
        "top=sorted(dic.items(), key=lambda x:x[1],reverse=True)[:10]"
      ],
      "id": "packed-russian",
      "execution_count": 153,
      "outputs": []
    },
    {
      "cell_type": "code",
      "metadata": {
        "execution": {
          "iopub.execute_input": "2021-04-18T17:02:27.436041Z",
          "iopub.status.busy": "2021-04-18T17:02:27.435128Z",
          "iopub.status.idle": "2021-04-18T17:02:27.662175Z",
          "shell.execute_reply": "2021-04-18T17:02:27.662627Z"
        },
        "papermill": {
          "duration": 0.303176,
          "end_time": "2021-04-18T17:02:27.662827",
          "exception": false,
          "start_time": "2021-04-18T17:02:27.359651",
          "status": "completed"
        },
        "tags": [],
        "colab": {
          "base_uri": "https://localhost:8080/",
          "height": 407
        },
        "id": "level-perspective",
        "outputId": "876c6207-d310-4a0d-8f85-533b8ccbd457"
      },
      "source": [
        "#plot\n",
        "plt.figure(figsize=(8, 6))\n",
        "x,y=zip(*top)\n",
        "plt.bar(x,y, color=\"blue\", )\n",
        "plt.title(label=\"Most common words Positive Reviews\")"
      ],
      "id": "level-perspective",
      "execution_count": 155,
      "outputs": [
        {
          "output_type": "execute_result",
          "data": {
            "text/plain": [
              "Text(0.5, 1.0, 'Most common words Positive Reviews')"
            ]
          },
          "metadata": {
            "tags": []
          },
          "execution_count": 155
        },
        {
          "output_type": "display_data",
          "data": {
            "image/png": "[encoded data removed]",
            "text/plain": [
              "<Figure size 576x432 with 1 Axes>"
            ]
          },
          "metadata": {
            "tags": []
          }
        }
      ]
    },
    {
      "cell_type": "markdown",
      "metadata": {
        "papermill": {
          "duration": 0.074572,
          "end_time": "2021-04-18T17:02:27.811490",
          "exception": false,
          "start_time": "2021-04-18T17:02:27.736918",
          "status": "completed"
        },
        "tags": [],
        "id": "aerial-needle"
      },
      "source": [
        "When it comes to the EDA we got really interesting insights. Especially the word appreance section seems the most interesting. When it comes to our newly built meta features \"Average Word Lenght\", \"@-count\" and \"#-count\" seems the most valuable as disaster Tweets have higher average word length, more \"#\"'s and fewer \"@\"'s. My guess is that we have a lot of news Tweets with a more formal lingo."
      ],
      "id": "aerial-needle"
    },
    {
      "cell_type": "markdown",
      "metadata": {
        "papermill": {
          "duration": 0.074863,
          "end_time": "2021-04-18T17:02:27.977553",
          "exception": false,
          "start_time": "2021-04-18T17:02:27.902690",
          "status": "completed"
        },
        "tags": [],
        "id": "linear-composite"
      },
      "source": [
        "# 4. Base Model🔩"
      ],
      "id": "linear-composite"
    },
    {
      "cell_type": "markdown",
      "metadata": {
        "papermill": {
          "duration": 0.07635,
          "end_time": "2021-04-18T17:02:28.129886",
          "exception": false,
          "start_time": "2021-04-18T17:02:28.053536",
          "status": "completed"
        },
        "tags": [],
        "id": "wanted-walter"
      },
      "source": [
        "In this kernel I tried to improve my stacking skills. That being said we are going to build a stacked \"Bag-of-Words\"-model, a stacked \"Embedding-model\" and a simple RandomForest model based on meta features. We stack those again into one final Level-2 stacked model."
      ],
      "id": "wanted-walter"
    },
    {
      "cell_type": "markdown",
      "metadata": {
        "papermill": {
          "duration": 0.073249,
          "end_time": "2021-04-18T17:02:28.278666",
          "exception": false,
          "start_time": "2021-04-18T17:02:28.205417",
          "status": "completed"
        },
        "tags": [],
        "id": "empirical-repository"
      },
      "source": [
        "# 4.1 Bag-of-Words Model👜"
      ],
      "id": "empirical-repository"
    },
    {
      "cell_type": "markdown",
      "metadata": {
        "papermill": {
          "duration": 0.07298,
          "end_time": "2021-04-18T17:02:28.424912",
          "exception": false,
          "start_time": "2021-04-18T17:02:28.351932",
          "status": "completed"
        },
        "tags": [],
        "id": "green-latest"
      },
      "source": [
        "For our \"Bag-of-Words\" model we use Countvectorizer to encode each text into a vector. An encoded vector is returned with a length of the entire vocabulary and an integer count for the number of times each word appeared in the document. For further information check out: https://scikit-learn.org/stable/modules/generated/sklearn.feature_extraction.text.CountVectorizer.html"
      ],
      "id": "green-latest"
    },
    {
      "cell_type": "code",
      "metadata": {
        "execution": {
          "iopub.execute_input": "2021-04-18T17:02:28.574917Z",
          "iopub.status.busy": "2021-04-18T17:02:28.574225Z",
          "iopub.status.idle": "2021-04-18T17:02:28.577603Z",
          "shell.execute_reply": "2021-04-18T17:02:28.578132Z"
        },
        "papermill": {
          "duration": 0.080383,
          "end_time": "2021-04-18T17:02:28.578298",
          "exception": false,
          "start_time": "2021-04-18T17:02:28.497915",
          "status": "completed"
        },
        "tags": [],
        "id": "automotive-creativity"
      },
      "source": [
        "# assign target\n",
        "target = train[\"target\"]"
      ],
      "id": "automotive-creativity",
      "execution_count": null,
      "outputs": []
    },
    {
      "cell_type": "code",
      "metadata": {
        "execution": {
          "iopub.execute_input": "2021-04-18T17:02:28.731243Z",
          "iopub.status.busy": "2021-04-18T17:02:28.730530Z",
          "iopub.status.idle": "2021-04-18T17:02:29.119303Z",
          "shell.execute_reply": "2021-04-18T17:02:29.118672Z"
        },
        "papermill": {
          "duration": 0.465562,
          "end_time": "2021-04-18T17:02:29.119462",
          "exception": false,
          "start_time": "2021-04-18T17:02:28.653900",
          "status": "completed"
        },
        "tags": [],
        "id": "stopped-anniversary"
      },
      "source": [
        "# convert text into token counts matrix\n",
        "from sklearn.feature_extraction.text import CountVectorizer\n",
        "vect = CountVectorizer(stop_words='english',ngram_range=(1, 2),max_df=0.5,min_df=2)\n",
        "X_train_vec = vect.fit_transform(train[\"clean_txt\"])\n",
        "X_test_vec = vect.transform(test[\"clean_txt\"])"
      ],
      "id": "stopped-anniversary",
      "execution_count": null,
      "outputs": []
    },
    {
      "cell_type": "code",
      "metadata": {
        "execution": {
          "iopub.execute_input": "2021-04-18T17:02:29.276465Z",
          "iopub.status.busy": "2021-04-18T17:02:29.275767Z",
          "iopub.status.idle": "2021-04-18T17:02:29.296753Z",
          "shell.execute_reply": "2021-04-18T17:02:29.296202Z"
        },
        "papermill": {
          "duration": 0.099536,
          "end_time": "2021-04-18T17:02:29.296904",
          "exception": false,
          "start_time": "2021-04-18T17:02:29.197368",
          "status": "completed"
        },
        "tags": [],
        "id": "convenient-flower",
        "outputId": "39e009a9-8890-4bf9-b789-92663b616a7c"
      },
      "source": [
        "# normalize token counts matrix\n",
        "from sklearn.feature_extraction.text import TfidfTransformer\n",
        "tfidf_transformer = TfidfTransformer()\n",
        "tfidf_transformer.fit_transform(X_train_vec)\n",
        "tfidf_transformer.fit_transform(X_test_vec)"
      ],
      "id": "convenient-flower",
      "execution_count": null,
      "outputs": [
        {
          "output_type": "execute_result",
          "data": {
            "text/plain": [
              "<3263x10334 sparse matrix of type '<class 'numpy.float64'>'\n",
              "\twith 25276 stored elements in Compressed Sparse Row format>"
            ]
          },
          "metadata": {
            "tags": []
          },
          "execution_count": 32
        }
      ]
    },
    {
      "cell_type": "code",
      "metadata": {
        "execution": {
          "iopub.execute_input": "2021-04-18T17:02:29.454742Z",
          "iopub.status.busy": "2021-04-18T17:02:29.454060Z",
          "iopub.status.idle": "2021-04-18T17:02:29.456615Z",
          "shell.execute_reply": "2021-04-18T17:02:29.457369Z"
        },
        "papermill": {
          "duration": 0.083631,
          "end_time": "2021-04-18T17:02:29.457575",
          "exception": false,
          "start_time": "2021-04-18T17:02:29.373944",
          "status": "completed"
        },
        "tags": [],
        "id": "creative-construction"
      },
      "source": [
        "# 10-times cross validation\n",
        "from sklearn.model_selection import StratifiedKFold\n",
        "random_state = 2021\n",
        "n_folds = 10\n",
        "k_fold = StratifiedKFold(n_splits=n_folds, random_state=random_state, shuffle=True)"
      ],
      "id": "creative-construction",
      "execution_count": null,
      "outputs": []
    },
    {
      "cell_type": "code",
      "metadata": {
        "execution": {
          "iopub.execute_input": "2021-04-18T17:02:29.615855Z",
          "iopub.status.busy": "2021-04-18T17:02:29.615146Z",
          "iopub.status.idle": "2021-04-18T17:02:29.621938Z",
          "shell.execute_reply": "2021-04-18T17:02:29.622463Z"
        },
        "papermill": {
          "duration": 0.088849,
          "end_time": "2021-04-18T17:02:29.622653",
          "exception": false,
          "start_time": "2021-04-18T17:02:29.533804",
          "status": "completed"
        },
        "tags": [],
        "id": "prescription-amazon"
      },
      "source": [
        "# arrays for base model predictions\n",
        "nb_train_preds = np.zeros(len(train.index), )\n",
        "nb_test_preds = np.zeros(len(test.index), )\n",
        "\n",
        "svc_train_preds = np.zeros(len(train.index), )\n",
        "svc_test_preds = np.zeros(len(test.index), )\n",
        "\n",
        "lr_train_preds = np.zeros(len(train.index), )\n",
        "lr_test_preds = np.zeros(len(test.index), )"
      ],
      "id": "prescription-amazon",
      "execution_count": null,
      "outputs": []
    },
    {
      "cell_type": "code",
      "metadata": {
        "execution": {
          "iopub.execute_input": "2021-04-18T17:02:29.780364Z",
          "iopub.status.busy": "2021-04-18T17:02:29.779619Z",
          "iopub.status.idle": "2021-04-18T17:02:37.792098Z",
          "shell.execute_reply": "2021-04-18T17:02:37.793927Z"
        },
        "papermill": {
          "duration": 8.093321,
          "end_time": "2021-04-18T17:02:37.794211",
          "exception": false,
          "start_time": "2021-04-18T17:02:29.700890",
          "status": "completed"
        },
        "tags": [],
        "id": "italian-cambridge",
        "outputId": "6adc07af-8635-42db-f0fb-62f273e006e1"
      },
      "source": [
        "# bag-of-words base model\n",
        "from sklearn.naive_bayes import MultinomialNB\n",
        "from sklearn.linear_model import LogisticRegression\n",
        "from sklearn.svm import LinearSVC\n",
        "from sklearn.metrics import f1_score\n",
        "\n",
        "for fold, (train_index, test_index) in enumerate(k_fold.split(train[\"clean_txt\"], target)):\n",
        "    print(\"--> Fold {}\".format(fold + 1))\n",
        "    y_train = target.iloc[train_index]\n",
        "    y_valid = target.iloc[test_index]\n",
        "    \n",
        "    x_train = X_train_vec[train_index]\n",
        "    x_valid = X_train_vec[test_index]\n",
        "    \n",
        "    nb_model = MultinomialNB()\n",
        "    nb_model.fit(x_train, y_train)\n",
        "    \n",
        "    train_oof_preds = nb_model.predict(x_valid)\n",
        "    nb_test_preds = nb_model.predict(X_test_vec)\n",
        "    nb_train_preds[test_index] = train_oof_preds\n",
        "    print(\": Bag-of-Words NB - Score = {}\".format(f1_score(y_valid, train_oof_preds)))\n",
        "      \n",
        "    svc_model = LinearSVC(random_state=1, dual=False, max_iter=10000)\n",
        "    svc_model.fit(x_train, y_train)\n",
        "    \n",
        "    train_oof_preds = svc_model.predict(x_valid)\n",
        "    svc_test_preds = svc_model.predict(X_test_vec)\n",
        "    svc_train_preds[test_index] = train_oof_preds\n",
        "    print(\": Bag-of-Words SCV - Score = {}\".format(f1_score(y_valid, train_oof_preds))) \n",
        "    \n",
        "    lr_model = LogisticRegression()\n",
        "    lr_model.fit(x_train, y_train)\n",
        "    \n",
        "    train_oof_preds = lr_model.predict(x_valid)\n",
        "    lr_test_preds = lr_model.predict(X_test_vec)\n",
        "    lr_train_preds[test_index] = train_oof_preds\n",
        "    print(\": Bag-of-Words LR - Score = {}\".format(f1_score(y_valid, train_oof_preds))) \n",
        "    \n",
        "print(\"--> Overall metrics\")\n",
        "print(\": Bag-of-Words NB = {}\".format(f1_score(target, nb_train_preds)))\n",
        "print(\": Bag-of-Words SVC = {}\".format(f1_score(target, svc_train_preds)))\n",
        "print(\": Bag-of-Words LR = {}\".format(f1_score(target, lr_train_preds)))"
      ],
      "id": "italian-cambridge",
      "execution_count": null,
      "outputs": [
        {
          "output_type": "stream",
          "text": [
            "--> Fold 1\n",
            ": Bag-of-Words NB - Score = 0.7333333333333335\n",
            ": Bag-of-Words SCV - Score = 0.6858974358974359\n",
            ": Bag-of-Words LR - Score = 0.7373572593800978\n",
            "--> Fold 2\n",
            ": Bag-of-Words NB - Score = 0.703150912106136\n",
            ": Bag-of-Words SCV - Score = 0.684375\n",
            ": Bag-of-Words LR - Score = 0.7184466019417477\n",
            "--> Fold 3\n",
            ": Bag-of-Words NB - Score = 0.73421926910299\n",
            ": Bag-of-Words SCV - Score = 0.6924265842349304\n",
            ": Bag-of-Words LR - Score = 0.7311475409836065\n",
            "--> Fold 4\n",
            ": Bag-of-Words NB - Score = 0.703448275862069\n",
            ": Bag-of-Words SCV - Score = 0.6772655007949125\n",
            ": Bag-of-Words LR - Score = 0.7209302325581396\n",
            "--> Fold 5\n",
            ": Bag-of-Words NB - Score = 0.7157534246575342\n",
            ": Bag-of-Words SCV - Score = 0.7103109656301148\n",
            ": Bag-of-Words LR - Score = 0.7353951890034365\n",
            "--> Fold 6\n",
            ": Bag-of-Words NB - Score = 0.7482993197278911\n",
            ": Bag-of-Words SCV - Score = 0.720257234726688\n",
            ": Bag-of-Words LR - Score = 0.7542087542087542\n",
            "--> Fold 7\n",
            ": Bag-of-Words NB - Score = 0.8039538714991762\n",
            ": Bag-of-Words SCV - Score = 0.7416798732171158\n",
            ": Bag-of-Words LR - Score = 0.7730263157894737\n",
            "--> Fold 8\n",
            ": Bag-of-Words NB - Score = 0.7479674796747967\n",
            ": Bag-of-Words SCV - Score = 0.7015384615384617\n",
            ": Bag-of-Words LR - Score = 0.7211538461538463\n",
            "--> Fold 9\n",
            ": Bag-of-Words NB - Score = 0.7554076539101497\n",
            ": Bag-of-Words SCV - Score = 0.7142857142857144\n",
            ": Bag-of-Words LR - Score = 0.7562189054726369\n",
            "--> Fold 10\n",
            ": Bag-of-Words NB - Score = 0.768976897689769\n",
            ": Bag-of-Words SCV - Score = 0.7675840978593272\n",
            ": Bag-of-Words LR - Score = 0.8038585209003215\n",
            "--> Overall metrics\n",
            ": Bag-of-Words NB = 0.7417307049782828\n",
            ": Bag-of-Words SVC = 0.7096875986115493\n",
            ": Bag-of-Words LR = 0.7452271231073073\n"
          ],
          "name": "stdout"
        }
      ]
    },
    {
      "cell_type": "code",
      "metadata": {
        "execution": {
          "iopub.execute_input": "2021-04-18T17:02:38.008688Z",
          "iopub.status.busy": "2021-04-18T17:02:38.008022Z",
          "iopub.status.idle": "2021-04-18T17:02:38.011156Z",
          "shell.execute_reply": "2021-04-18T17:02:38.010499Z"
        },
        "papermill": {
          "duration": 0.092134,
          "end_time": "2021-04-18T17:02:38.011304",
          "exception": false,
          "start_time": "2021-04-18T17:02:37.919170",
          "status": "completed"
        },
        "tags": [],
        "id": "italic-monthly"
      },
      "source": [
        "# arrays for stacked model predictions\n",
        "bag_train_preds = np.zeros(len(train.index), )\n",
        "bag_test_preds = np.zeros(len(test.index), )"
      ],
      "id": "italic-monthly",
      "execution_count": null,
      "outputs": []
    },
    {
      "cell_type": "code",
      "metadata": {
        "execution": {
          "iopub.execute_input": "2021-04-18T17:02:38.190191Z",
          "iopub.status.busy": "2021-04-18T17:02:38.189411Z",
          "iopub.status.idle": "2021-04-18T17:02:39.498683Z",
          "shell.execute_reply": "2021-04-18T17:02:39.499376Z"
        },
        "papermill": {
          "duration": 1.405425,
          "end_time": "2021-04-18T17:02:39.499555",
          "exception": false,
          "start_time": "2021-04-18T17:02:38.094130",
          "status": "completed"
        },
        "tags": [],
        "id": "double-execution",
        "outputId": "9fe8afbf-f15e-4c05-d6fd-f055b8632b33"
      },
      "source": [
        "# bag-of-words stacked model \n",
        "from xgboost import XGBClassifier\n",
        "from sklearn.metrics import confusion_matrix\n",
        "\n",
        "l1_train = pd.DataFrame(data={\n",
        "    \"nb\": nb_train_preds.tolist(),\n",
        "    \"svc\": svc_train_preds.tolist(),\n",
        "    \"lr\": lr_train_preds.tolist(),\n",
        "    \"target\": target.tolist()\n",
        "})\n",
        "l1_test = pd.DataFrame(data={\n",
        "    \"nb\": nb_test_preds.tolist(),\n",
        "    \"svc\": svc_test_preds.tolist(),\n",
        "    \"lr\": lr_test_preds.tolist(),\n",
        "})\n",
        "\n",
        "train_preds = np.zeros(len(l1_train.index), )\n",
        "test_preds = np.zeros(len(l1_test.index), )\n",
        "features = [\"nb\", \"svc\", \"lr\"]\n",
        "\n",
        "for fold, (train_index, test_index) in enumerate(k_fold.split(l1_train, target)):\n",
        "    print(\"--> Fold {}\".format(fold + 1))\n",
        "    y_train = target.iloc[train_index]\n",
        "    y_valid = target.iloc[test_index]\n",
        "\n",
        "    x_train = pd.DataFrame(l1_train[features].iloc[train_index])\n",
        "    x_valid = pd.DataFrame(l1_train[features].iloc[test_index])\n",
        "    \n",
        "    bag_model = XGBClassifier(nthread = -1, eval_metric=\"logloss\", use_label_encoder=False)\n",
        "    \n",
        "    bag_model.fit(\n",
        "    x_train,\n",
        "    y_train,\n",
        "    eval_set=[(x_valid, y_valid)], \n",
        "    verbose=0,\n",
        "    early_stopping_rounds=200\n",
        "    )\n",
        "\n",
        "    train_oof_preds = bag_model.predict(x_valid)\n",
        "    test_oof_preds = bag_model.predict(l1_test[features])\n",
        "    bag_train_preds[test_index] = train_oof_preds\n",
        "    bag_test_preds = test_oof_preds\n",
        "    print(\": Bag-of-Words Stacked Model Score = {}\".format(f1_score(y_valid, train_oof_preds)))\n",
        "    print(\"\")\n",
        "    \n",
        "print(\"--> Overall metrics\")\n",
        "print(\": Bag-of-Words Stacked Model Score = {}\".format(f1_score(target, bag_train_preds)))\n",
        "print(\"Confusion Matrix: \")\n",
        "print(confusion_matrix(target, bag_train_preds))"
      ],
      "id": "double-execution",
      "execution_count": null,
      "outputs": [
        {
          "output_type": "stream",
          "text": [
            "--> Fold 1\n",
            ": Bag-of-Words Stacked Model Score = 0.7288428324697755\n",
            "\n",
            "--> Fold 2\n",
            ": Bag-of-Words Stacked Model Score = 0.7079037800687286\n",
            "\n",
            "--> Fold 3\n",
            ": Bag-of-Words Stacked Model Score = 0.7228915662650602\n",
            "\n",
            "--> Fold 4\n",
            ": Bag-of-Words Stacked Model Score = 0.7056798623063684\n",
            "\n",
            "--> Fold 5\n",
            ": Bag-of-Words Stacked Model Score = 0.7240143369175628\n",
            "\n",
            "--> Fold 6\n",
            ": Bag-of-Words Stacked Model Score = 0.7406082289803221\n",
            "\n",
            "--> Fold 7\n",
            ": Bag-of-Words Stacked Model Score = 0.7705479452054794\n",
            "\n",
            "--> Fold 8\n",
            ": Bag-of-Words Stacked Model Score = 0.7235494880546075\n",
            "\n",
            "--> Fold 9\n",
            ": Bag-of-Words Stacked Model Score = 0.7452339688041595\n",
            "\n",
            "--> Fold 10\n",
            ": Bag-of-Words Stacked Model Score = 0.7708333333333334\n",
            "\n",
            "--> Overall metrics\n",
            ": Bag-of-Words Stacked Model Score = 0.7339927121290994\n",
            "Confusion Matrix: \n",
            "[[3965  377]\n",
            " [1156 2115]]\n"
          ],
          "name": "stdout"
        }
      ]
    },
    {
      "cell_type": "code",
      "metadata": {
        "execution": {
          "iopub.execute_input": "2021-04-18T17:02:39.672370Z",
          "iopub.status.busy": "2021-04-18T17:02:39.671637Z",
          "iopub.status.idle": "2021-04-18T17:02:39.681526Z",
          "shell.execute_reply": "2021-04-18T17:02:39.682147Z"
        },
        "papermill": {
          "duration": 0.098486,
          "end_time": "2021-04-18T17:02:39.682328",
          "exception": false,
          "start_time": "2021-04-18T17:02:39.583842",
          "status": "completed"
        },
        "tags": [],
        "id": "opened-strength",
        "outputId": "4fd34e52-9afa-4a9f-cf2d-29339693a28f"
      },
      "source": [
        "# base model importances of stacked model\n",
        "list(zip(features, bag_model.feature_importances_))"
      ],
      "id": "opened-strength",
      "execution_count": null,
      "outputs": [
        {
          "output_type": "execute_result",
          "data": {
            "text/plain": [
              "[('nb', 0.9466882), ('svc', 0.0015816562), ('lr', 0.051730145)]"
            ]
          },
          "metadata": {
            "tags": []
          },
          "execution_count": 38
        }
      ]
    },
    {
      "cell_type": "markdown",
      "metadata": {
        "papermill": {
          "duration": 0.086568,
          "end_time": "2021-04-18T17:02:39.853615",
          "exception": false,
          "start_time": "2021-04-18T17:02:39.767047",
          "status": "completed"
        },
        "tags": [],
        "id": "residential-marker"
      },
      "source": [
        "# 4.2 Word Embedding Model🤲🏻"
      ],
      "id": "residential-marker"
    },
    {
      "cell_type": "markdown",
      "metadata": {
        "papermill": {
          "duration": 0.089136,
          "end_time": "2021-04-18T17:02:40.026226",
          "exception": false,
          "start_time": "2021-04-18T17:02:39.937090",
          "status": "completed"
        },
        "tags": [],
        "id": "pressed-secondary"
      },
      "source": [
        "Spacy is transforming each word into a token. Afterwards we embed all tokens into vectors via \"Word2Vec\". "
      ],
      "id": "pressed-secondary"
    },
    {
      "cell_type": "code",
      "metadata": {
        "execution": {
          "iopub.execute_input": "2021-04-18T17:02:40.201115Z",
          "iopub.status.busy": "2021-04-18T17:02:40.200430Z",
          "iopub.status.idle": "2021-04-18T17:02:50.354455Z",
          "shell.execute_reply": "2021-04-18T17:02:50.353831Z"
        },
        "papermill": {
          "duration": 10.241446,
          "end_time": "2021-04-18T17:02:50.354617",
          "exception": false,
          "start_time": "2021-04-18T17:02:40.113171",
          "status": "completed"
        },
        "tags": [],
        "id": "suburban-order"
      },
      "source": [
        "#import embedding tool\n",
        "import spacy\n",
        "nlp = spacy.load('en_core_web_lg')"
      ],
      "id": "suburban-order",
      "execution_count": null,
      "outputs": []
    },
    {
      "cell_type": "code",
      "metadata": {
        "execution": {
          "iopub.execute_input": "2021-04-18T17:02:50.541647Z",
          "iopub.status.busy": "2021-04-18T17:02:50.540893Z",
          "iopub.status.idle": "2021-04-18T17:04:33.097021Z",
          "shell.execute_reply": "2021-04-18T17:04:33.096310Z"
        },
        "papermill": {
          "duration": 102.657595,
          "end_time": "2021-04-18T17:04:33.097206",
          "exception": false,
          "start_time": "2021-04-18T17:02:50.439611",
          "status": "completed"
        },
        "tags": [],
        "id": "celtic-portfolio"
      },
      "source": [
        "#embedding process\n",
        "with nlp.disable_pipes():\n",
        "    X_train_embedding = np.array([nlp(text).vector for text in train[\"clean_txt\"]])\n",
        "    X_test_embedding = np.array([nlp(text).vector for text in test[\"clean_txt\"]])"
      ],
      "id": "celtic-portfolio",
      "execution_count": null,
      "outputs": []
    },
    {
      "cell_type": "code",
      "metadata": {
        "execution": {
          "iopub.execute_input": "2021-04-18T17:04:33.272244Z",
          "iopub.status.busy": "2021-04-18T17:04:33.271159Z",
          "iopub.status.idle": "2021-04-18T17:04:33.274780Z",
          "shell.execute_reply": "2021-04-18T17:04:33.274053Z"
        },
        "papermill": {
          "duration": 0.093825,
          "end_time": "2021-04-18T17:04:33.274935",
          "exception": false,
          "start_time": "2021-04-18T17:04:33.181110",
          "status": "completed"
        },
        "tags": [],
        "id": "specified-guyana"
      },
      "source": [
        "# arrays for base model predictions\n",
        "nb_train_preds = np.zeros(len(train.index), )\n",
        "nb_test_preds = np.zeros(len(test.index), )\n",
        "\n",
        "svc_train_preds = np.zeros(len(train.index), )\n",
        "svc_test_preds = np.zeros(len(test.index), )\n",
        "\n",
        "lr_train_preds = np.zeros(len(train.index), )\n",
        "lr_test_preds = np.zeros(len(test.index), )\n"
      ],
      "id": "specified-guyana",
      "execution_count": null,
      "outputs": []
    },
    {
      "cell_type": "code",
      "metadata": {
        "execution": {
          "iopub.execute_input": "2021-04-18T17:04:33.455556Z",
          "iopub.status.busy": "2021-04-18T17:04:33.454861Z",
          "iopub.status.idle": "2021-04-18T17:06:32.118377Z",
          "shell.execute_reply": "2021-04-18T17:06:32.120258Z"
        },
        "papermill": {
          "duration": 118.760196,
          "end_time": "2021-04-18T17:06:32.120679",
          "exception": false,
          "start_time": "2021-04-18T17:04:33.360483",
          "status": "completed"
        },
        "tags": [],
        "id": "false-latitude",
        "outputId": "4b8fed59-efc7-4a4e-b302-24c4e63f21f1"
      },
      "source": [
        "# embedding base model \n",
        "from sklearn.ensemble import RandomForestClassifier\n",
        "\n",
        "for fold, (train_index, test_index) in enumerate(k_fold.split(train[\"clean_txt\"], target)):\n",
        "    print(\"--> Fold {}\".format(fold + 1))\n",
        "    y_train = target.iloc[train_index]\n",
        "    y_valid = target.iloc[test_index]\n",
        "    \n",
        "    x_train = X_train_embedding[train_index]\n",
        "    x_valid = X_train_embedding[test_index]\n",
        "    \n",
        "    nb_model = RandomForestClassifier()\n",
        "    nb_model.fit(x_train, y_train)\n",
        "    \n",
        "    train_oof_preds = nb_model.predict(x_valid)\n",
        "    nb_test_preds = nb_model.predict(X_test_embedding)\n",
        "    nb_train_preds[test_index] = train_oof_preds\n",
        "    print(\": Embedding NB - Score = {}\".format(f1_score(y_valid, train_oof_preds)))\n",
        "    \n",
        "    svc_model = LinearSVC(random_state=1, dual=False, max_iter=10000)\n",
        "    svc_model.fit(x_train, y_train)\n",
        "    \n",
        "    train_oof_preds = svc_model.predict(x_valid)\n",
        "    svc_test_preds = svc_model.predict(X_test_embedding)\n",
        "    svc_train_preds[test_index] = train_oof_preds\n",
        "    print(\": Embedding SVC - Score = {}\".format(f1_score(y_valid, train_oof_preds)))\n",
        "    \n",
        "    lr_model = LogisticRegression(max_iter=400)\n",
        "    lr_model.fit(x_train, y_train)\n",
        "    \n",
        "    train_oof_preds = lr_model.predict(x_valid)\n",
        "    lr_test_preds = lr_model.predict(X_test_embedding)\n",
        "    lr_train_preds[test_index] = train_oof_preds\n",
        "    print(\": Embedding LR - Score = {}\".format(f1_score(y_valid, train_oof_preds)))\n",
        "    \n",
        "print(\"--> Overall metrics\")\n",
        "print(\": Embedding NB Score = {}\".format(f1_score(target, nb_train_preds)))\n",
        "print(\": Enbedding SVC Score = {}\".format(f1_score(target, svc_train_preds)))\n",
        "print(\": Embedding LR Score = {}\".format(f1_score(target, lr_train_preds)))"
      ],
      "id": "false-latitude",
      "execution_count": null,
      "outputs": [
        {
          "output_type": "stream",
          "text": [
            "--> Fold 1\n",
            ": Embedding NB - Score = 0.7582781456953642\n",
            ": Embedding SVC - Score = 0.7414634146341464\n",
            ": Embedding LR - Score = 0.7439613526570049\n",
            "--> Fold 2\n",
            ": Embedding NB - Score = 0.7064676616915423\n",
            ": Embedding SVC - Score = 0.7187499999999999\n",
            ": Embedding LR - Score = 0.7136150234741785\n",
            "--> Fold 3\n",
            ": Embedding NB - Score = 0.7419898819561551\n",
            ": Embedding SVC - Score = 0.733974358974359\n",
            ": Embedding LR - Score = 0.736\n",
            "--> Fold 4\n",
            ": Embedding NB - Score = 0.7137931034482758\n",
            ": Embedding SVC - Score = 0.7075928917609046\n",
            ": Embedding LR - Score = 0.7142857142857143\n",
            "--> Fold 5\n",
            ": Embedding NB - Score = 0.7319587628865979\n",
            ": Embedding SVC - Score = 0.7272727272727272\n",
            ": Embedding LR - Score = 0.7335526315789473\n",
            "--> Fold 6\n",
            ": Embedding NB - Score = 0.7576791808873721\n",
            ": Embedding SVC - Score = 0.7888707037643208\n",
            ": Embedding LR - Score = 0.7783251231527094\n",
            "--> Fold 7\n",
            ": Embedding NB - Score = 0.7833333333333333\n",
            ": Embedding SVC - Score = 0.7761674718196457\n",
            ": Embedding LR - Score = 0.7816455696202531\n",
            "--> Fold 8\n",
            ": Embedding NB - Score = 0.7401315789473684\n",
            ": Embedding SVC - Score = 0.7439613526570049\n",
            ": Embedding LR - Score = 0.7463651050080774\n",
            "--> Fold 9\n",
            ": Embedding NB - Score = 0.760797342192691\n",
            ": Embedding SVC - Score = 0.7660256410256411\n",
            ": Embedding LR - Score = 0.7603833865814696\n",
            "--> Fold 10\n",
            ": Embedding NB - Score = 0.7676767676767676\n",
            ": Embedding SVC - Score = 0.7648\n",
            ": Embedding LR - Score = 0.7667731629392973\n",
            "--> Overall metrics\n",
            ": Embedding NB Score = 0.7463037634408601\n",
            ": Enbedding SVC Score = 0.7468170829975826\n",
            ": Embedding LR Score = 0.7474682526924932\n"
          ],
          "name": "stdout"
        }
      ]
    },
    {
      "cell_type": "code",
      "metadata": {
        "execution": {
          "iopub.execute_input": "2021-04-18T17:06:32.351114Z",
          "iopub.status.busy": "2021-04-18T17:06:32.350362Z",
          "iopub.status.idle": "2021-04-18T17:06:32.353677Z",
          "shell.execute_reply": "2021-04-18T17:06:32.353159Z"
        },
        "papermill": {
          "duration": 0.102019,
          "end_time": "2021-04-18T17:06:32.353844",
          "exception": false,
          "start_time": "2021-04-18T17:06:32.251825",
          "status": "completed"
        },
        "tags": [],
        "id": "legendary-champagne"
      },
      "source": [
        "# arrays for stacked model\n",
        "emb_train_preds = np.zeros(len(train.index), )\n",
        "emb_test_preds = np.zeros(len(test.index), )"
      ],
      "id": "legendary-champagne",
      "execution_count": null,
      "outputs": []
    },
    {
      "cell_type": "code",
      "metadata": {
        "execution": {
          "iopub.execute_input": "2021-04-18T17:06:32.567145Z",
          "iopub.status.busy": "2021-04-18T17:06:32.566374Z",
          "iopub.status.idle": "2021-04-18T17:06:33.444387Z",
          "shell.execute_reply": "2021-04-18T17:06:33.445109Z"
        },
        "papermill": {
          "duration": 0.998584,
          "end_time": "2021-04-18T17:06:33.445338",
          "exception": false,
          "start_time": "2021-04-18T17:06:32.446754",
          "status": "completed"
        },
        "tags": [],
        "id": "vanilla-supplement",
        "outputId": "9ac67bf7-867b-4297-fdfd-a74dae7fcd93"
      },
      "source": [
        "# embedding stacked model\n",
        "l1_train = pd.DataFrame(data={\n",
        "    \"nb\": nb_train_preds.tolist(),\n",
        "    \"svc\": svc_train_preds.tolist(),\n",
        "    \"lr\": lr_train_preds.tolist(),\n",
        "    \"target\": target.tolist()\n",
        "})\n",
        "l1_test = pd.DataFrame(data={\n",
        "    \"nb\": nb_test_preds.tolist(),\n",
        "    \"svc\": svc_test_preds.tolist(),\n",
        "    \"lr\": lr_test_preds.tolist(),\n",
        "})\n",
        "\n",
        "train_preds = np.zeros(len(l1_train.index), )\n",
        "test_preds = np.zeros(len(l1_test.index), )\n",
        "features = [\"nb\", \"svc\", \"lr\"]\n",
        "\n",
        "for fold, (train_index, test_index) in enumerate(k_fold.split(l1_train, target)):\n",
        "    print(\"--> Fold {}\".format(fold + 1))\n",
        "    y_train = target.iloc[train_index]\n",
        "    y_valid = target.iloc[test_index]\n",
        "\n",
        "    x_train = pd.DataFrame(l1_train[features].iloc[train_index])\n",
        "    x_valid = pd.DataFrame(l1_train[features].iloc[test_index])\n",
        "    \n",
        "    emb_model = XGBClassifier(nthread = -1, eval_metric=\"logloss\", use_label_encoder=False)\n",
        "    \n",
        "    emb_model.fit(\n",
        "    x_train,\n",
        "    y_train,\n",
        "    eval_set=[(x_valid, y_valid)], \n",
        "    verbose=0,\n",
        "    early_stopping_rounds=200\n",
        "    )\n",
        "\n",
        "    train_oof_preds = bag_model.predict(x_valid)\n",
        "    test_oof_preds = bag_model.predict(l1_test[features])\n",
        "    emb_train_preds[test_index] = train_oof_preds\n",
        "    emb_test_preds = test_oof_preds\n",
        "    print(\": Embedding Stacked Model Score = {}\".format(f1_score(y_valid, train_oof_preds)))\n",
        "    print(\"\")\n",
        "    \n",
        "print(\"--> Overall metrics\")\n",
        "print(\":  Embedding Stacked Model Score = {}\".format(f1_score(target, emb_train_preds)))\n",
        "print(\"Confusion Matrix: \")\n",
        "print(confusion_matrix(target, emb_train_preds))"
      ],
      "id": "vanilla-supplement",
      "execution_count": null,
      "outputs": [
        {
          "output_type": "stream",
          "text": [
            "--> Fold 1\n",
            ": Embedding Stacked Model Score = 0.7386759581881532\n",
            "\n",
            "--> Fold 2\n",
            ": Embedding Stacked Model Score = 0.7\n",
            "\n",
            "--> Fold 3\n",
            ": Embedding Stacked Model Score = 0.7246891651865008\n",
            "\n",
            "--> Fold 4\n",
            ": Embedding Stacked Model Score = 0.7150442477876106\n",
            "\n",
            "--> Fold 5\n",
            ": Embedding Stacked Model Score = 0.7259786476868327\n",
            "\n",
            "--> Fold 6\n",
            ": Embedding Stacked Model Score = 0.7420494699646644\n",
            "\n",
            "--> Fold 7\n",
            ": Embedding Stacked Model Score = 0.774526678141136\n",
            "\n",
            "--> Fold 8\n",
            ": Embedding Stacked Model Score = 0.7291666666666667\n",
            "\n",
            "--> Fold 9\n",
            ": Embedding Stacked Model Score = 0.7517241379310344\n",
            "\n",
            "--> Fold 10\n",
            ": Embedding Stacked Model Score = 0.7574171029668412\n",
            "\n",
            "--> Overall metrics\n",
            ":  Embedding Stacked Model Score = 0.7360139860139859\n",
            "Confusion Matrix: \n",
            "[[3998  344]\n",
            " [1166 2105]]\n"
          ],
          "name": "stdout"
        }
      ]
    },
    {
      "cell_type": "code",
      "metadata": {
        "execution": {
          "iopub.execute_input": "2021-04-18T17:06:33.639818Z",
          "iopub.status.busy": "2021-04-18T17:06:33.639066Z",
          "iopub.status.idle": "2021-04-18T17:06:33.650719Z",
          "shell.execute_reply": "2021-04-18T17:06:33.650198Z"
        },
        "papermill": {
          "duration": 0.110683,
          "end_time": "2021-04-18T17:06:33.650867",
          "exception": false,
          "start_time": "2021-04-18T17:06:33.540184",
          "status": "completed"
        },
        "tags": [],
        "id": "quantitative-reflection",
        "outputId": "bed6a267-4656-4d97-9a8b-2aa81e50fd04"
      },
      "source": [
        "# base model importances of stacked model\n",
        "list(zip(features, emb_model.feature_importances_))"
      ],
      "id": "quantitative-reflection",
      "execution_count": null,
      "outputs": [
        {
          "output_type": "execute_result",
          "data": {
            "text/plain": [
              "[('nb', 0.93553436), ('svc', 0.063012145), ('lr', 0.0014535133)]"
            ]
          },
          "metadata": {
            "tags": []
          },
          "execution_count": 45
        }
      ]
    },
    {
      "cell_type": "markdown",
      "metadata": {
        "papermill": {
          "duration": 0.094873,
          "end_time": "2021-04-18T17:06:33.840632",
          "exception": false,
          "start_time": "2021-04-18T17:06:33.745759",
          "status": "completed"
        },
        "tags": [],
        "id": "cheap-conspiracy"
      },
      "source": [
        "# 4.3 Meta Features Model🔧"
      ],
      "id": "cheap-conspiracy"
    },
    {
      "cell_type": "markdown",
      "metadata": {
        "papermill": {
          "duration": 0.094156,
          "end_time": "2021-04-18T17:06:34.029269",
          "exception": false,
          "start_time": "2021-04-18T17:06:33.935113",
          "status": "completed"
        },
        "tags": [],
        "id": "neither-spider"
      },
      "source": [
        "At our data exploration we have already built the majority of our meta features. Now we transform the \"location\" and \"keyword\" features and create \"dummie\" variables."
      ],
      "id": "neither-spider"
    },
    {
      "cell_type": "code",
      "metadata": {
        "execution": {
          "iopub.execute_input": "2021-04-18T17:06:34.227234Z",
          "iopub.status.busy": "2021-04-18T17:06:34.225836Z",
          "iopub.status.idle": "2021-04-18T17:06:34.232355Z",
          "shell.execute_reply": "2021-04-18T17:06:34.232863Z"
        },
        "papermill": {
          "duration": 0.107898,
          "end_time": "2021-04-18T17:06:34.233031",
          "exception": false,
          "start_time": "2021-04-18T17:06:34.125133",
          "status": "completed"
        },
        "tags": [],
        "id": "smaller-delivery",
        "outputId": "6f02fddc-a1e5-4dac-d746-90b4db8e1abf"
      },
      "source": [
        "#unique values of \"keyword\" and \"location\" feature\n",
        "print(\"Unique 'keyword' entries: {}\".format(len(df.keyword.unique())))\n",
        "print(\"-\"*30)\n",
        "print(\"Unique 'location' entries: {}\".format(len(df.location.unique())))"
      ],
      "id": "smaller-delivery",
      "execution_count": null,
      "outputs": [
        {
          "output_type": "stream",
          "text": [
            "Unique 'keyword' entries: 222\n",
            "------------------------------\n",
            "Unique 'location' entries: 4521\n"
          ],
          "name": "stdout"
        }
      ]
    },
    {
      "cell_type": "code",
      "metadata": {
        "execution": {
          "iopub.execute_input": "2021-04-18T17:06:34.441014Z",
          "iopub.status.busy": "2021-04-18T17:06:34.440225Z",
          "iopub.status.idle": "2021-04-18T17:06:34.443252Z",
          "shell.execute_reply": "2021-04-18T17:06:34.442747Z"
        },
        "papermill": {
          "duration": 0.114947,
          "end_time": "2021-04-18T17:06:34.443394",
          "exception": false,
          "start_time": "2021-04-18T17:06:34.328447",
          "status": "completed"
        },
        "tags": [],
        "id": "fancy-charter"
      },
      "source": [
        "#trim \"location\" and \"keyword\" to first 3 letters\n",
        "df[\"keyword\"] = df.keyword.apply(lambda x: str(x)[:3])\n",
        "df[\"location\"] = df.keyword.apply(lambda x: str(x)[:3])"
      ],
      "id": "fancy-charter",
      "execution_count": null,
      "outputs": []
    },
    {
      "cell_type": "code",
      "metadata": {
        "execution": {
          "iopub.execute_input": "2021-04-18T17:06:34.642159Z",
          "iopub.status.busy": "2021-04-18T17:06:34.640920Z",
          "iopub.status.idle": "2021-04-18T17:06:34.648426Z",
          "shell.execute_reply": "2021-04-18T17:06:34.649233Z"
        },
        "papermill": {
          "duration": 0.110543,
          "end_time": "2021-04-18T17:06:34.649476",
          "exception": false,
          "start_time": "2021-04-18T17:06:34.538933",
          "status": "completed"
        },
        "tags": [],
        "id": "wrapped-musician",
        "outputId": "6684db08-6e58-4f94-fa0d-9979de4e92d1"
      },
      "source": [
        "#check unique values, seems trimmed now\n",
        "print(\"Unique 'keyword' entries: {}\".format(len(df.keyword.unique())))\n",
        "print(\"-\"*30)\n",
        "print(\"Unique 'location' entries: {}\".format(len(df.location.unique())))"
      ],
      "id": "wrapped-musician",
      "execution_count": null,
      "outputs": [
        {
          "output_type": "stream",
          "text": [
            "Unique 'keyword' entries: 127\n",
            "------------------------------\n",
            "Unique 'location' entries: 127\n"
          ],
          "name": "stdout"
        }
      ]
    },
    {
      "cell_type": "code",
      "metadata": {
        "execution": {
          "iopub.execute_input": "2021-04-18T17:06:34.855317Z",
          "iopub.status.busy": "2021-04-18T17:06:34.854415Z",
          "iopub.status.idle": "2021-04-18T17:06:34.857988Z",
          "shell.execute_reply": "2021-04-18T17:06:34.857421Z"
        },
        "papermill": {
          "duration": 0.109835,
          "end_time": "2021-04-18T17:06:34.858142",
          "exception": false,
          "start_time": "2021-04-18T17:06:34.748307",
          "status": "completed"
        },
        "tags": [],
        "id": "massive-classroom"
      },
      "source": [
        "#seperate again\n",
        "train = df[:ntrain]\n",
        "test = df[ntrain:]"
      ],
      "id": "massive-classroom",
      "execution_count": null,
      "outputs": []
    },
    {
      "cell_type": "code",
      "metadata": {
        "execution": {
          "iopub.execute_input": "2021-04-18T17:06:35.058727Z",
          "iopub.status.busy": "2021-04-18T17:06:35.057904Z",
          "iopub.status.idle": "2021-04-18T17:06:35.065554Z",
          "shell.execute_reply": "2021-04-18T17:06:35.065068Z"
        },
        "papermill": {
          "duration": 0.110226,
          "end_time": "2021-04-18T17:06:35.065720",
          "exception": false,
          "start_time": "2021-04-18T17:06:34.955494",
          "status": "completed"
        },
        "tags": [],
        "id": "extensive-opening"
      },
      "source": [
        "#choose meta features\n",
        "train = train[[\"keyword\",\"location\",\"Message_Length\", \"Word_Count\",\"Avg_Word\", \"Unique_Words\", \"Stopwords\", \"#_Count\", \"@_Count\"]]\n",
        "test = test[[\"keyword\",\"location\",\"Message_Length\", \"Word_Count\",\"Avg_Word\", \"Unique_Words\", \"Stopwords\", \"#_Count\", \"@_Count\"]]"
      ],
      "id": "extensive-opening",
      "execution_count": null,
      "outputs": []
    },
    {
      "cell_type": "code",
      "metadata": {
        "execution": {
          "iopub.execute_input": "2021-04-18T17:06:35.268429Z",
          "iopub.status.busy": "2021-04-18T17:06:35.265479Z",
          "iopub.status.idle": "2021-04-18T17:06:35.292095Z",
          "shell.execute_reply": "2021-04-18T17:06:35.291499Z"
        },
        "papermill": {
          "duration": 0.129853,
          "end_time": "2021-04-18T17:06:35.292238",
          "exception": false,
          "start_time": "2021-04-18T17:06:35.162385",
          "status": "completed"
        },
        "tags": [],
        "id": "unauthorized-activation"
      },
      "source": [
        "#dummies\n",
        "train = pd.get_dummies(train)\n",
        "test = pd.get_dummies(test)"
      ],
      "id": "unauthorized-activation",
      "execution_count": null,
      "outputs": []
    },
    {
      "cell_type": "code",
      "metadata": {
        "execution": {
          "iopub.execute_input": "2021-04-18T17:06:35.492336Z",
          "iopub.status.busy": "2021-04-18T17:06:35.491374Z",
          "iopub.status.idle": "2021-04-18T17:06:35.494841Z",
          "shell.execute_reply": "2021-04-18T17:06:35.494213Z"
        },
        "papermill": {
          "duration": 0.106427,
          "end_time": "2021-04-18T17:06:35.494979",
          "exception": false,
          "start_time": "2021-04-18T17:06:35.388552",
          "status": "completed"
        },
        "tags": [],
        "id": "blind-strand"
      },
      "source": [
        "# arrays for base model prediction\n",
        "rf_train_preds = np.zeros(len(train.index), )\n",
        "rf_test_preds = np.zeros(len(test.index), )"
      ],
      "id": "blind-strand",
      "execution_count": null,
      "outputs": []
    },
    {
      "cell_type": "code",
      "metadata": {
        "execution": {
          "iopub.execute_input": "2021-04-18T17:06:35.702772Z",
          "iopub.status.busy": "2021-04-18T17:06:35.701982Z",
          "iopub.status.idle": "2021-04-18T17:07:18.285407Z",
          "shell.execute_reply": "2021-04-18T17:07:18.286309Z"
        },
        "papermill": {
          "duration": 42.690919,
          "end_time": "2021-04-18T17:07:18.286632",
          "exception": false,
          "start_time": "2021-04-18T17:06:35.595713",
          "status": "completed"
        },
        "tags": [],
        "id": "resistant-startup",
        "outputId": "0b2d3d09-b7a3-441c-9667-9b66d1c55db0"
      },
      "source": [
        "# base meta features model\n",
        "for fold, (train_index, test_index) in enumerate(k_fold.split(train, target)):\n",
        "    print(\"--> Fold {}\".format(fold + 1))\n",
        "    y_train = target.iloc[train_index]\n",
        "    y_valid = target.iloc[test_index]\n",
        "    \n",
        "    x_train = pd.DataFrame(train.iloc[train_index])\n",
        "    x_valid = pd.DataFrame(train.iloc[test_index])\n",
        "    \n",
        "    rf_model = RandomForestClassifier(n_estimators=500, n_jobs=-1, min_samples_leaf=3, min_samples_split=2)\n",
        "    \n",
        "    rf_model.fit(x_train,y_train,)\n",
        "    \n",
        "    train_oof_preds = rf_model.predict(x_valid)\n",
        "    rf_test_preds = rf_model.predict(test)\n",
        "    rf_train_preds[test_index] = train_oof_preds\n",
        "    print(\": META - Score = {}\".format(f1_score(y_valid, train_oof_preds))) \n",
        "    \n",
        "print(\"--> Overall metrics\")\n",
        "print(\": META Score = {}\".format(f1_score(target, rf_train_preds)))"
      ],
      "id": "resistant-startup",
      "execution_count": null,
      "outputs": [
        {
          "output_type": "stream",
          "text": [
            "--> Fold 1\n",
            ": META - Score = 0.6565143824027072\n",
            "--> Fold 2\n",
            ": META - Score = 0.6489184692179701\n",
            "--> Fold 3\n",
            ": META - Score = 0.6622950819672131\n",
            "--> Fold 4\n",
            ": META - Score = 0.6422628951747088\n",
            "--> Fold 5\n",
            ": META - Score = 0.6457242582897034\n",
            "--> Fold 6\n",
            ": META - Score = 0.6422338568935427\n",
            "--> Fold 7\n",
            ": META - Score = 0.6600985221674877\n",
            "--> Fold 8\n",
            ": META - Score = 0.6461038961038962\n",
            "--> Fold 9\n",
            ": META - Score = 0.6804123711340206\n",
            "--> Fold 10\n",
            ": META - Score = 0.6834170854271356\n",
            "--> Overall metrics\n",
            ": META Score = 0.6568116915840753\n"
          ],
          "name": "stdout"
        }
      ]
    },
    {
      "cell_type": "markdown",
      "metadata": {
        "papermill": {
          "duration": 0.103277,
          "end_time": "2021-04-18T17:07:18.492019",
          "exception": false,
          "start_time": "2021-04-18T17:07:18.388742",
          "status": "completed"
        },
        "tags": [],
        "id": "hidden-thriller"
      },
      "source": [
        "# 5. Final Stacked Model⚙️"
      ],
      "id": "hidden-thriller"
    },
    {
      "cell_type": "markdown",
      "metadata": {
        "papermill": {
          "duration": 0.102374,
          "end_time": "2021-04-18T17:07:18.694880",
          "exception": false,
          "start_time": "2021-04-18T17:07:18.592506",
          "status": "completed"
        },
        "tags": [],
        "id": "republican-greece"
      },
      "source": [
        "Finally we have made it to our final level-2 stacked model. XGBClassifier we do the job for this one. Just a quick reminder, In this model we are stacking:\n",
        "* Bag-of-Words model\n",
        "* Embedding model\n",
        "* Meta Features model"
      ],
      "id": "republican-greece"
    },
    {
      "cell_type": "code",
      "metadata": {
        "execution": {
          "iopub.execute_input": "2021-04-18T17:07:18.903727Z",
          "iopub.status.busy": "2021-04-18T17:07:18.902690Z",
          "iopub.status.idle": "2021-04-18T17:07:18.906091Z",
          "shell.execute_reply": "2021-04-18T17:07:18.905463Z"
        },
        "papermill": {
          "duration": 0.111459,
          "end_time": "2021-04-18T17:07:18.906234",
          "exception": false,
          "start_time": "2021-04-18T17:07:18.794775",
          "status": "completed"
        },
        "tags": [],
        "id": "compressed-stationery"
      },
      "source": [
        "# arrays for final stacked model prediction\n",
        "train_preds = np.zeros(len(train.index), )\n",
        "test_preds = np.zeros(len(test.index), )"
      ],
      "id": "compressed-stationery",
      "execution_count": null,
      "outputs": []
    },
    {
      "cell_type": "code",
      "metadata": {
        "execution": {
          "iopub.execute_input": "2021-04-18T17:07:19.137367Z",
          "iopub.status.busy": "2021-04-18T17:07:19.136288Z",
          "iopub.status.idle": "2021-04-18T17:07:20.067211Z",
          "shell.execute_reply": "2021-04-18T17:07:20.066613Z"
        },
        "papermill": {
          "duration": 1.061019,
          "end_time": "2021-04-18T17:07:20.067351",
          "exception": false,
          "start_time": "2021-04-18T17:07:19.006332",
          "status": "completed"
        },
        "tags": [],
        "id": "seasonal-coffee",
        "outputId": "50afcc95-205a-4f8a-b919-d611a2f94b95"
      },
      "source": [
        "# final stacked model\n",
        "from xgboost import XGBClassifier\n",
        "\n",
        "l1_train = pd.DataFrame(data={\n",
        "    \"meta\": rf_train_preds.tolist(),\n",
        "    \"embedding\": emb_train_preds.tolist(),\n",
        "    \"bag\": bag_train_preds.tolist(),\n",
        "    \"target\": target.tolist()\n",
        "})\n",
        "l1_test = pd.DataFrame(data={\n",
        "    \"meta\": rf_test_preds.tolist(),\n",
        "    \"embedding\": emb_test_preds.tolist(),\n",
        "    \"bag\": bag_test_preds.tolist(),\n",
        "})\n",
        "\n",
        "train_preds = np.zeros(len(l1_train.index), )\n",
        "test_preds = np.zeros(len(l1_test.index), )\n",
        "features = [\"meta\", \"embedding\", \"bag\"]\n",
        "\n",
        "for fold, (train_index, test_index) in enumerate(k_fold.split(l1_train, target)):\n",
        "    print(\"--> Fold {}\".format(fold + 1))\n",
        "    y_train = target.iloc[train_index]\n",
        "    y_valid = target.iloc[test_index]\n",
        "\n",
        "    x_train = pd.DataFrame(l1_train[features].iloc[train_index])\n",
        "    x_valid = pd.DataFrame(l1_train[features].iloc[test_index])\n",
        "    \n",
        "    model = XGBClassifier(nthread = -1, eval_metric=\"logloss\", use_label_encoder=False, max_depth = 7)\n",
        "\n",
        "    model.fit(\n",
        "    x_train,\n",
        "    y_train,\n",
        "    eval_set=[(x_valid, y_valid)], \n",
        "    verbose=0,\n",
        "    early_stopping_rounds=400\n",
        "    )\n",
        "\n",
        "    train_oof_preds = model.predict(x_valid)\n",
        "    test_oof_preds = model.predict(l1_test[features])\n",
        "    train_preds[test_index] = train_oof_preds\n",
        "    test_preds = test_oof_preds\n",
        "    print(\": Final Stacked Model Score = {}\".format(f1_score(y_valid, train_oof_preds)))\n",
        "    print(\"\")\n",
        "    \n",
        "print(\"--> Overall metrics\")\n",
        "print(\": Final Stacked Model Score = {}\".format(f1_score(target, train_preds)))\n",
        "print(\"Confusion Matrix: \")\n",
        "print(confusion_matrix(target, train_preds))"
      ],
      "id": "seasonal-coffee",
      "execution_count": null,
      "outputs": [
        {
          "output_type": "stream",
          "text": [
            "--> Fold 1\n",
            ": Final Stacked Model Score = 0.7554806070826308\n",
            "\n",
            "--> Fold 2\n",
            ": Final Stacked Model Score = 0.722495894909688\n",
            "\n",
            "--> Fold 3\n",
            ": Final Stacked Model Score = 0.74247491638796\n",
            "\n",
            "--> Fold 4\n",
            ": Final Stacked Model Score = 0.7275862068965517\n",
            "\n",
            "--> Fold 5\n",
            ": Final Stacked Model Score = 0.7443478260869564\n",
            "\n",
            "--> Fold 6\n",
            ": Final Stacked Model Score = 0.758147512864494\n",
            "\n",
            "--> Fold 7\n",
            ": Final Stacked Model Score = 0.7946577629382303\n",
            "\n",
            "--> Fold 8\n",
            ": Final Stacked Model Score = 0.7524752475247526\n",
            "\n",
            "--> Fold 9\n",
            ": Final Stacked Model Score = 0.7785234899328859\n",
            "\n",
            "--> Fold 10\n",
            ": Final Stacked Model Score = 0.7837837837837838\n",
            "\n",
            "--> Overall metrics\n",
            ": Final Stacked Model Score = 0.7560276513235542\n",
            "Confusion Matrix: \n",
            "[[3924  418]\n",
            " [1029 2242]]\n"
          ],
          "name": "stdout"
        }
      ]
    },
    {
      "cell_type": "code",
      "metadata": {
        "execution": {
          "iopub.execute_input": "2021-04-18T17:07:20.278172Z",
          "iopub.status.busy": "2021-04-18T17:07:20.277170Z",
          "iopub.status.idle": "2021-04-18T17:07:20.290174Z",
          "shell.execute_reply": "2021-04-18T17:07:20.289508Z"
        },
        "papermill": {
          "duration": 0.118914,
          "end_time": "2021-04-18T17:07:20.290316",
          "exception": false,
          "start_time": "2021-04-18T17:07:20.171402",
          "status": "completed"
        },
        "tags": [],
        "id": "electronic-jacksonville",
        "outputId": "c46e50f9-5f4a-44eb-bd27-516fc5d1eee1"
      },
      "source": [
        "# base model importances of stacked model\n",
        "list(zip(features, model.feature_importances_))"
      ],
      "id": "electronic-jacksonville",
      "execution_count": null,
      "outputs": [
        {
          "output_type": "execute_result",
          "data": {
            "text/plain": [
              "[('meta', 0.014401278), ('embedding', 0.9295685), ('bag', 0.056030147)]"
            ]
          },
          "metadata": {
            "tags": []
          },
          "execution_count": 56
        }
      ]
    },
    {
      "cell_type": "markdown",
      "metadata": {
        "papermill": {
          "duration": 0.101211,
          "end_time": "2021-04-18T17:07:20.493512",
          "exception": false,
          "start_time": "2021-04-18T17:07:20.392301",
          "status": "completed"
        },
        "tags": [],
        "id": "going-bracelet"
      },
      "source": [
        "# 6. Submission🔑"
      ],
      "id": "going-bracelet"
    },
    {
      "cell_type": "code",
      "metadata": {
        "execution": {
          "iopub.execute_input": "2021-04-18T17:07:20.706069Z",
          "iopub.status.busy": "2021-04-18T17:07:20.705404Z",
          "iopub.status.idle": "2021-04-18T17:07:20.732219Z",
          "shell.execute_reply": "2021-04-18T17:07:20.731571Z"
        },
        "papermill": {
          "duration": 0.13551,
          "end_time": "2021-04-18T17:07:20.732368",
          "exception": false,
          "start_time": "2021-04-18T17:07:20.596858",
          "status": "completed"
        },
        "tags": [],
        "id": "congressional-twins"
      },
      "source": [
        "#submission\n",
        "submission = pd.read_csv(\"/kaggle/input/nlp-getting-started/sample_submission.csv\")\n",
        "submission[\"target\"] = test_preds.tolist()\n",
        "submission.to_csv(\"submission.csv\", index=False)"
      ],
      "id": "congressional-twins",
      "execution_count": null,
      "outputs": []
    }
  ]
}