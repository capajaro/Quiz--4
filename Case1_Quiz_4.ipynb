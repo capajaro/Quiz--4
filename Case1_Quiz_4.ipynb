{
  "nbformat": 4,
  "nbformat_minor": 5,
  "metadata": {
    "kernelspec": {
      "display_name": "Python 3",
      "language": "python",
      "name": "python3"
    },
    "language_info": {
      "codemirror_mode": {
        "name": "ipython",
        "version": 3
      },
      "file_extension": ".py",
      "mimetype": "text/x-python",
      "name": "python",
      "nbconvert_exporter": "python",
      "pygments_lexer": "ipython3",
      "version": "3.7.9"
    },
    "papermill": {
      "default_parameters": {},
      "duration": 314.593042,
      "end_time": "2021-04-18T17:07:22.548316",
      "environment_variables": {},
      "exception": null,
      "input_path": "__notebook__.ipynb",
      "output_path": "__notebook__.ipynb",
      "parameters": {},
      "start_time": "2021-04-18T17:02:07.955274",
      "version": "2.3.2"
    },
    "colab": {
      "name": "Case1_Quiz_4.ipynb",
      "provenance": [],
      "collapsed_sections": [],
      "toc_visible": true,
      "include_colab_link": true
    }
  },
  "cells": [
    {
      "cell_type": "markdown",
      "metadata": {
        "id": "view-in-github",
        "colab_type": "text"
      },
      "source": [
        "<a href=\"https://colab.research.google.com/github/capajaro/Quiz--4/blob/main/Case1_Quiz_4.ipynb\" target=\"_parent\"><img src=\"https://colab.research.google.com/assets/colab-badge.svg\" alt=\"Open In Colab\"/></a>"
      ]
    },
    {
      "cell_type": "markdown",
      "metadata": {
        "papermill": {
          "duration": 0.057751,
          "end_time": "2021-04-18T17:02:14.886555",
          "exception": false,
          "start_time": "2021-04-18T17:02:14.828804",
          "status": "completed"
        },
        "tags": [],
        "id": "intermediate-tobacco"
      },
      "source": [
        "# Quiz 4 - Asignatura Mineria de Datos Uninorte; Case-1\n",
        "#### **_Estudiante: César Augusto Pájaro Miranda_**\n",
        "\n",
        "En este notebook lo que haremos es utilizar las funcionalidades de limpieza de datos y visualización de Python para generar los archivos base que se necesitan para generar los modelos usando las librerias de **_\"R\"_**. Por comodidad en la carga de los datos, se utilizan repositorios públicos de _GitHub_.\n",
        "\n",
        "# Agenda📃:\n",
        "1. Limpieza de datos y preprocesamiento\n",
        "2. Exploración de Base de Datos\n",
        "3. Generacion modelos usando **_\"R\"_**\n",
        "4. Resultados modelo **_\"R\"_**\n",
        "\n",
        "Muchas de las secciones del codigo de python son adaptadas del notebook de hannaliavoshka alojado en: \n",
        "https://www.kaggle.com/hannaliavoshka/bert-with-disaster-tweets"
      ],
      "id": "intermediate-tobacco"
    },
    {
      "cell_type": "code",
      "metadata": {
        "_cell_guid": "b1076dfc-b9ad-4769-8c92-a6c4dae69d19",
        "_uuid": "8f2839f25d086af736a60e9eeb907d3b93b6e0e5",
        "execution": {
          "iopub.execute_input": "2021-04-18T17:02:15.003029Z",
          "iopub.status.busy": "2021-04-18T17:02:15.001416Z",
          "iopub.status.idle": "2021-04-18T17:02:16.094331Z",
          "shell.execute_reply": "2021-04-18T17:02:16.095117Z"
        },
        "papermill": {
          "duration": 1.152896,
          "end_time": "2021-04-18T17:02:16.095450",
          "exception": false,
          "start_time": "2021-04-18T17:02:14.942554",
          "status": "completed"
        },
        "tags": [],
        "id": "applicable-coordinate",
        "colab": {
          "base_uri": "https://localhost:8080/"
        },
        "outputId": "e8fc863a-b7c5-4645-9b48-b35ce821da03"
      },
      "source": [
        " # linear algebra and modeling\n",
        "import numpy as np\n",
        "from sklearn.model_selection import train_test_split\n",
        "# data processing, CSV file I/O (e.g. pd.read_csv)\n",
        "import pandas as pd\n",
        "#visualization\n",
        "import matplotlib.pyplot as plt\n",
        "%matplotlib inline\n",
        "import seaborn as sns\n",
        "\n",
        "# tools for text processing\n",
        "import re\n",
        "import string\n",
        "from nltk.corpus import stopwords\n",
        "import nltk\n",
        "nltk.download('stopwords')\n",
        "  "
      ],
      "id": "applicable-coordinate",
      "execution_count": 1,
      "outputs": [
        {
          "output_type": "stream",
          "text": [
            "[nltk_data] Downloading package stopwords to /root/nltk_data...\n",
            "[nltk_data]   Unzipping corpora/stopwords.zip.\n"
          ],
          "name": "stdout"
        },
        {
          "output_type": "execute_result",
          "data": {
            "text/plain": [
              "True"
            ]
          },
          "metadata": {
            "tags": []
          },
          "execution_count": 1
        }
      ]
    },
    {
      "cell_type": "markdown",
      "metadata": {
        "id": "pVqHahfdYPVQ"
      },
      "source": [
        "Se cargan el archivo de excel alojado en el repositorio de GitHub con la base de datos y se divide la data entre Train y Testing con una proporcion de 70%/30% respectivamente, usando la libreria de scikit-learn https://scikit-learn.org/stable/."
      ],
      "id": "pVqHahfdYPVQ"
    },
    {
      "cell_type": "code",
      "metadata": {
        "execution": {
          "iopub.execute_input": "2021-04-18T17:02:16.213200Z",
          "iopub.status.busy": "2021-04-18T17:02:16.212145Z",
          "iopub.status.idle": "2021-04-18T17:02:16.302285Z",
          "shell.execute_reply": "2021-04-18T17:02:16.301224Z"
        },
        "papermill": {
          "duration": 0.150162,
          "end_time": "2021-04-18T17:02:16.302466",
          "exception": false,
          "start_time": "2021-04-18T17:02:16.152304",
          "status": "completed"
        },
        "tags": [],
        "id": "spare-genetics"
      },
      "source": [
        "#train and test set\n",
        "Data = pd.read_excel(\"https://github.com/capajaro/Quiz--4/blob/main/Data_yelp.xlsx?raw=true\", header = None)\n",
        "Data.columns = ['text', 'target']\n",
        "\n",
        "X = Data.text\n",
        "y = Data.target\n",
        "\n",
        "train_X,test_X,train_y,test_y = train_test_split(X,y,test_size=0.3, random_state=10);\n",
        "\n",
        "train = pd.DataFrame()\n",
        "train['text'] = train_X\n",
        "train['target'] = train_y\n",
        "\n",
        "test = pd.DataFrame()\n",
        "test['text'] = test_X\n",
        "test['target'] = test_y\n",
        "\n",
        "df = pd.concat([train,test])"
      ],
      "id": "spare-genetics",
      "execution_count": 2,
      "outputs": []
    },
    {
      "cell_type": "markdown",
      "metadata": {
        "papermill": {
          "duration": 0.057319,
          "end_time": "2021-04-18T17:02:17.365273",
          "exception": false,
          "start_time": "2021-04-18T17:02:17.307954",
          "status": "completed"
        },
        "tags": [],
        "id": "numeric-circular"
      },
      "source": [
        "# 2. Limpieza de datos y preprocesamiento🧹"
      ],
      "id": "numeric-circular"
    },
    {
      "cell_type": "code",
      "metadata": {
        "execution": {
          "iopub.execute_input": "2021-04-18T17:02:17.076029Z",
          "iopub.status.busy": "2021-04-18T17:02:17.075255Z",
          "iopub.status.idle": "2021-04-18T17:02:17.249788Z",
          "shell.execute_reply": "2021-04-18T17:02:17.249089Z"
        },
        "papermill": {
          "duration": 0.234868,
          "end_time": "2021-04-18T17:02:17.249934",
          "exception": false,
          "start_time": "2021-04-18T17:02:17.015066",
          "status": "completed"
        },
        "tags": [],
        "id": "southeast-floor",
        "colab": {
          "base_uri": "https://localhost:8080/",
          "height": 441
        },
        "outputId": "8fb8dfc8-f169-4941-aee8-2873e78acb41"
      },
      "source": [
        "#distribution reviews\n",
        "sns.set_style(\"darkgrid\")\n",
        "plt.figure(num=10, figsize=(8, 6))\n",
        "sns.countplot(x=df.target)\n",
        "plt.xlabel('Reviews', fontweight='bold', fontsize= 14)\n",
        "plt.xticks(ticks = [0,1], labels = [\"Negative\", \"Positive\"])\n",
        "plt.tight_layout()\n"
      ],
      "id": "southeast-floor",
      "execution_count": 3,
      "outputs": [
        {
          "output_type": "display_data",
          "data": {
            "image/png": "[encoded data removed]",
            "text/plain": [
              "<Figure size 576x432 with 1 Axes>"
            ]
          },
          "metadata": {
            "tags": []
          }
        }
      ]
    },
    {
      "cell_type": "code",
      "metadata": {
        "execution": {
          "iopub.execute_input": "2021-04-18T17:02:19.340561Z",
          "iopub.status.busy": "2021-04-18T17:02:19.338865Z",
          "iopub.status.idle": "2021-04-18T17:02:19.347390Z",
          "shell.execute_reply": "2021-04-18T17:02:19.346624Z"
        },
        "papermill": {
          "duration": 0.075276,
          "end_time": "2021-04-18T17:02:19.347541",
          "exception": false,
          "start_time": "2021-04-18T17:02:19.272265",
          "status": "completed"
        },
        "tags": [],
        "id": "japanese-germany"
      },
      "source": [
        "# Se uniran los datasets para mayor operabilidad\n",
        "df = pd.concat([train,test])\n",
        "ntrain = train.shape[0]\n",
        "ntest = test.shape[0]"
      ],
      "id": "japanese-germany",
      "execution_count": 4,
      "outputs": []
    },
    {
      "cell_type": "code",
      "metadata": {
        "execution": {
          "iopub.execute_input": "2021-04-18T17:02:19.474290Z",
          "iopub.status.busy": "2021-04-18T17:02:19.473550Z",
          "iopub.status.idle": "2021-04-18T17:02:19.477336Z",
          "shell.execute_reply": "2021-04-18T17:02:19.476548Z"
        },
        "papermill": {
          "duration": 0.070463,
          "end_time": "2021-04-18T17:02:19.477478",
          "exception": false,
          "start_time": "2021-04-18T17:02:19.407015",
          "status": "completed"
        },
        "tags": [],
        "id": "wireless-estimate"
      },
      "source": [
        "# function to Make text lowercase, remove text in square brackets,remove links,remove punctuation and remove words containing numbers\n",
        "# Special thanks to https://www.kaggle.com/andreshg for this function. Check his kernel out - it's great!\n",
        "def clean_text(text):\n",
        "    text = str(text).lower()\n",
        "    text = re.sub('\\[.*?\\]', '', text)\n",
        "    text = re.sub('https?://\\S+|www\\.\\S+', '', text)\n",
        "    text = re.sub('<.*?>+', '', text)\n",
        "    text = re.sub('[%s]' % re.escape(string.punctuation), '', text)\n",
        "    text = re.sub('\\n', '', text)\n",
        "    text = re.sub('\\w*\\d\\w*', '', text)\n",
        "    return text"
      ],
      "id": "wireless-estimate",
      "execution_count": 5,
      "outputs": []
    },
    {
      "cell_type": "code",
      "metadata": {
        "execution": {
          "iopub.execute_input": "2021-04-18T17:02:19.607572Z",
          "iopub.status.busy": "2021-04-18T17:02:19.606758Z",
          "iopub.status.idle": "2021-04-18T17:02:19.617187Z",
          "shell.execute_reply": "2021-04-18T17:02:19.617933Z"
        },
        "papermill": {
          "duration": 0.079282,
          "end_time": "2021-04-18T17:02:19.618134",
          "exception": false,
          "start_time": "2021-04-18T17:02:19.538852",
          "status": "completed"
        },
        "tags": [],
        "id": "regular-beverage"
      },
      "source": [
        "#Se definen las frases a filtrar\n",
        "stop_words = stopwords.words('english') + [\"u\", \"im\", \"ur\", \"dont\", \"doin\", \"ure\"]"
      ],
      "id": "regular-beverage",
      "execution_count": 6,
      "outputs": []
    },
    {
      "cell_type": "code",
      "metadata": {
        "execution": {
          "iopub.execute_input": "2021-04-18T17:02:19.751025Z",
          "iopub.status.busy": "2021-04-18T17:02:19.749985Z",
          "iopub.status.idle": "2021-04-18T17:02:19.753346Z",
          "shell.execute_reply": "2021-04-18T17:02:19.752789Z"
        },
        "papermill": {
          "duration": 0.071242,
          "end_time": "2021-04-18T17:02:19.753489",
          "exception": false,
          "start_time": "2021-04-18T17:02:19.682247",
          "status": "completed"
        },
        "tags": [],
        "id": "facial-suffering"
      },
      "source": [
        "#final cleaning function presente en el Notebook original de Kaggle\n",
        "def preprocess_data(text):\n",
        "    # Clean puntuation, urls, and so on\n",
        "    text = clean_text(text)\n",
        "    # Remove stopwords\n",
        "    text = ' '.join(word for word in text.split(' ') if word not in stop_words)\n",
        "    return text"
      ],
      "id": "facial-suffering",
      "execution_count": 7,
      "outputs": []
    },
    {
      "cell_type": "code",
      "metadata": {
        "execution": {
          "iopub.execute_input": "2021-04-18T17:02:19.889831Z",
          "iopub.status.busy": "2021-04-18T17:02:19.884407Z",
          "iopub.status.idle": "2021-04-18T17:02:20.635957Z",
          "shell.execute_reply": "2021-04-18T17:02:20.635342Z"
        },
        "papermill": {
          "duration": 0.822185,
          "end_time": "2021-04-18T17:02:20.636119",
          "exception": false,
          "start_time": "2021-04-18T17:02:19.813934",
          "status": "completed"
        },
        "tags": [],
        "id": "minus-choice"
      },
      "source": [
        "#Se crea la variable clean text\n",
        "df[\"clean_txt\"] = df[\"text\"].apply(preprocess_data)"
      ],
      "id": "minus-choice",
      "execution_count": 8,
      "outputs": []
    },
    {
      "cell_type": "code",
      "metadata": {
        "execution": {
          "iopub.execute_input": "2021-04-18T17:02:20.767958Z",
          "iopub.status.busy": "2021-04-18T17:02:20.764308Z",
          "iopub.status.idle": "2021-04-18T17:02:20.772731Z",
          "shell.execute_reply": "2021-04-18T17:02:20.772037Z"
        },
        "papermill": {
          "duration": 0.074446,
          "end_time": "2021-04-18T17:02:20.772878",
          "exception": false,
          "start_time": "2021-04-18T17:02:20.698432",
          "status": "completed"
        },
        "tags": [],
        "id": "interim-decade",
        "colab": {
          "base_uri": "https://localhost:8080/"
        },
        "outputId": "10008728-462e-40a9-e10a-9e28849b3c50"
      },
      "source": [
        "#se comparan los textos original y procesados\n",
        "df[[\"text\",\"clean_txt\"]].head().values\n"
      ],
      "id": "interim-decade",
      "execution_count": 24,
      "outputs": [
        {
          "output_type": "execute_result",
          "data": {
            "text/plain": [
              "array([[\"I'm not sure how long we stood there but it was long enough for me to begin to feel awkwardly out of place.\",\n",
              "        'sure long stood long enough begin feel awkwardly place'],\n",
              "       [\"I can't wait to go back.\", 'cant wait go back'],\n",
              "       ['We recently witnessed her poor quality of management towards other guests as well.',\n",
              "        'recently witnessed poor quality management towards guests well'],\n",
              "       ['On the up side, their cafe serves really good food.',\n",
              "        'side cafe serves really good food'],\n",
              "       [\"Today is the second time I've been to their lunch buffet and it was pretty good.\",\n",
              "        'today second time ive lunch buffet pretty good']], dtype=object)"
            ]
          },
          "metadata": {
            "tags": []
          },
          "execution_count": 24
        }
      ]
    },
    {
      "cell_type": "markdown",
      "metadata": {
        "papermill": {
          "duration": 0.059908,
          "end_time": "2021-04-18T17:02:20.892504",
          "exception": false,
          "start_time": "2021-04-18T17:02:20.832596",
          "status": "completed"
        },
        "tags": [],
        "id": "sound-james"
      },
      "source": [
        "# 3. Exploración Base de Datos🧭"
      ],
      "id": "sound-james"
    },
    {
      "cell_type": "markdown",
      "metadata": {
        "papermill": {
          "duration": 0.063762,
          "end_time": "2021-04-18T17:02:21.017338",
          "exception": false,
          "start_time": "2021-04-18T17:02:20.953576",
          "status": "completed"
        },
        "tags": [],
        "id": "funny-flash"
      },
      "source": [
        "Para explorar los datos, lo que haremos sera revisar:\n",
        "* longitud de cada mensaje\n",
        "* numero de palabras en cada mensaje\n",
        "* longitud promedio por palabra\n",
        "* palabras únicas en cada mensaje\n",
        "* numero de stopwords por mensaje\n"
      ],
      "id": "funny-flash"
    },
    {
      "cell_type": "code",
      "metadata": {
        "execution": {
          "iopub.execute_input": "2021-04-18T17:02:21.155654Z",
          "iopub.status.busy": "2021-04-18T17:02:21.154958Z",
          "iopub.status.idle": "2021-04-18T17:02:21.655198Z",
          "shell.execute_reply": "2021-04-18T17:02:21.654467Z"
        },
        "papermill": {
          "duration": 0.577844,
          "end_time": "2021-04-18T17:02:21.655355",
          "exception": false,
          "start_time": "2021-04-18T17:02:21.077511",
          "status": "completed"
        },
        "tags": [],
        "id": "noble-university",
        "colab": {
          "base_uri": "https://localhost:8080/",
          "height": 422
        },
        "outputId": "2b3603c9-52a1-40cc-871b-d584ee49868d"
      },
      "source": [
        "#longitud de cada mensaje\n",
        "df.text = df.text.astype('str')\n",
        "train.text = train.text.astype('str')\n",
        "test.text = test.text.astype('str')\n",
        "\n",
        "df[\"Message_Length\"] = df.text.apply(lambda x: len(x))\n",
        "\n",
        "plt.figure(figsize=(8, 6))\n",
        "train.text.loc[train.target==1].apply(lambda x: len(x)).plot(bins=35, kind='hist', color='blue', label='Positive', alpha=0.4)\n",
        "train.text.loc[train.target==0].apply(lambda x: len(x)).plot(bins=35, kind='hist', color='red', label='Negative', alpha=0.3)\n",
        "plt.legend()\n",
        "plt.xlabel(\"Message Length\")\n",
        "\n",
        "print('Como podemos ver la distribución de palabras entre las reviews positivas y negativas ')\n",
        "print('en el dataset de entrenamiento es similar')"
      ],
      "id": "noble-university",
      "execution_count": 11,
      "outputs": [
        {
          "output_type": "stream",
          "text": [
            "Como podemos ver la distribución de palabras entre las reviews positivas y negativas \n",
            "en el dataset de entrenamiento es similar\n"
          ],
          "name": "stdout"
        },
        {
          "output_type": "display_data",
          "data": {
            "image/png": "[encoded data removed]",
            "text/plain": [
              "<Figure size 576x432 with 1 Axes>"
            ]
          },
          "metadata": {
            "tags": []
          }
        }
      ]
    },
    {
      "cell_type": "code",
      "metadata": {
        "execution": {
          "iopub.execute_input": "2021-04-18T17:02:21.943789Z",
          "iopub.status.busy": "2021-04-18T17:02:21.810146Z",
          "iopub.status.idle": "2021-04-18T17:02:22.366312Z",
          "shell.execute_reply": "2021-04-18T17:02:22.366919Z"
        },
        "papermill": {
          "duration": 0.650151,
          "end_time": "2021-04-18T17:02:22.367126",
          "exception": false,
          "start_time": "2021-04-18T17:02:21.716975",
          "status": "completed"
        },
        "tags": [],
        "id": "strange-universal",
        "colab": {
          "base_uri": "https://localhost:8080/",
          "height": 422
        },
        "outputId": "d60cd361-03b9-4792-8322-c30c17428b61"
      },
      "source": [
        "# numero de palabras en cada mensaje\n",
        "df[\"Word_Count\"] = df.text.str.split().apply(lambda x: len(x))\n",
        "\n",
        "plt.figure(figsize=(8, 6))\n",
        "train.text.loc[train.target==1].str.split().apply(lambda x: len(x)).plot(bins=25, kind='hist', color='blue', label='Positive', alpha=0.4)\n",
        "train.text.loc[train.target==0].str.split().apply(lambda x: len(x)).plot(bins=25, kind='hist', color='red', label='Negative', alpha=0.2)\n",
        "plt.legend()\n",
        "plt.xlabel(\"Word Count\")\n",
        "print('Como podemos ver el número de palabras de las reviews positivas y negativas ')\n",
        "print('en el dataset de entrenamiento es similar')"
      ],
      "id": "strange-universal",
      "execution_count": 12,
      "outputs": [
        {
          "output_type": "stream",
          "text": [
            "Como podemos ver el número de palabras de las reviews positivas y negativas \n",
            "en el dataset de entrenamiento es similar\n"
          ],
          "name": "stdout"
        },
        {
          "output_type": "display_data",
          "data": {
            "image/png": "[encoded data removed]",
            "text/plain": [
              "<Figure size 576x432 with 1 Axes>"
            ]
          },
          "metadata": {
            "tags": []
          }
        }
      ]
    },
    {
      "cell_type": "code",
      "metadata": {
        "execution": {
          "iopub.execute_input": "2021-04-18T17:02:22.574800Z",
          "iopub.status.busy": "2021-04-18T17:02:22.524526Z",
          "iopub.status.idle": "2021-04-18T17:02:23.377959Z",
          "shell.execute_reply": "2021-04-18T17:02:23.377274Z"
        },
        "papermill": {
          "duration": 0.937656,
          "end_time": "2021-04-18T17:02:23.378110",
          "exception": false,
          "start_time": "2021-04-18T17:02:22.440454",
          "status": "completed"
        },
        "tags": [],
        "id": "grand-relevance",
        "colab": {
          "base_uri": "https://localhost:8080/",
          "height": 439
        },
        "outputId": "ae8ad064-3857-44b5-b480-1c733c726c63"
      },
      "source": [
        "# longitud promedio por palabra\n",
        "df[\"Avg_Word\"] = df.text.str.split().apply(lambda x: [len(i) for i in x]).map(lambda x: np.mean(x))\n",
        "\n",
        "plt.figure(figsize=(8, 6))\n",
        "train.text.loc[train.target==1].str.split().apply(lambda x: [len(i) for i in x]).map(lambda x: np.mean(x)).plot(bins=25, kind='hist', color='blue', label='Positive', alpha=0.4)\n",
        "train.text.loc[train.target==0].str.split().apply(lambda x: [len(i) for i in x]).map(lambda x: np.mean(x)).plot(bins=25, kind='hist', color='red', label='Negative', alpha=0.2)\n",
        "plt.legend()\n",
        "plt.xlabel(\"Average Word Length\")\n",
        "print('Como podemos ver la longitud promedio por palabra entre las reviews positivas y negativas ')\n",
        "print('en el dataset de entrenamiento presenta una media similar, sin embargo la media de las')\n",
        "print('reviews negativas parece ser ligeramente menor a la de las reviews positivas')"
      ],
      "id": "grand-relevance",
      "execution_count": 14,
      "outputs": [
        {
          "output_type": "stream",
          "text": [
            "Como podemos ver la longitud promedio por palabra entre las reviews positivas y negativas \n",
            "en el dataset de entrenamiento presenta una media similar, sin embargo la media de las\n",
            "reviews negativas parece ser ligeramente menor a la de las reviews positivas\n"
          ],
          "name": "stdout"
        },
        {
          "output_type": "display_data",
          "data": {
            "image/png": "[encoded data removed]",
            "text/plain": [
              "<Figure size 576x432 with 1 Axes>"
            ]
          },
          "metadata": {
            "tags": []
          }
        }
      ]
    },
    {
      "cell_type": "code",
      "metadata": {
        "execution": {
          "iopub.execute_input": "2021-04-18T17:02:23.519998Z",
          "iopub.status.busy": "2021-04-18T17:02:23.519197Z",
          "iopub.status.idle": "2021-04-18T17:02:24.040299Z",
          "shell.execute_reply": "2021-04-18T17:02:24.039524Z"
        },
        "papermill": {
          "duration": 0.596544,
          "end_time": "2021-04-18T17:02:24.040466",
          "exception": false,
          "start_time": "2021-04-18T17:02:23.443922",
          "status": "completed"
        },
        "tags": [],
        "id": "aggressive-nelson"
      },
      "source": [
        "# palabras únicas en cada mensaje\n",
        "df[\"Unique_Words\"] = df.text.str.split().apply(lambda x: len(set(str(x).split())))\n",
        "plt.figure(figsize=(8, 6))\n",
        "train.text.loc[train.target==1].str.split().apply(lambda x: len(set(str(x).split()))).plot(bins=25, kind='hist', color='blue', label='Positive', alpha=0.4)\n",
        "train.text.loc[train.target==0].str.split().apply(lambda x: len(set(str(x).split()))).plot(bins=25, kind='hist', color='red', label='Negative', alpha=0.2)\n",
        "plt.legend()\n",
        "plt.xlabel(\"Unique Words\")\n",
        "\n",
        "print('Como podemos ver el número de palabras únicas en ambos tipos de review es similar en el dataset de entrenamiento')"
      ],
      "id": "aggressive-nelson",
      "execution_count": null,
      "outputs": []
    },
    {
      "cell_type": "code",
      "metadata": {
        "execution": {
          "iopub.execute_input": "2021-04-18T17:02:24.187388Z",
          "iopub.status.busy": "2021-04-18T17:02:24.186656Z",
          "iopub.status.idle": "2021-04-18T17:02:24.666344Z",
          "shell.execute_reply": "2021-04-18T17:02:24.666918Z"
        },
        "papermill": {
          "duration": 0.557616,
          "end_time": "2021-04-18T17:02:24.667105",
          "exception": false,
          "start_time": "2021-04-18T17:02:24.109489",
          "status": "completed"
        },
        "tags": [],
        "id": "corrected-amazon",
        "colab": {
          "base_uri": "https://localhost:8080/",
          "height": 439
        },
        "outputId": "d27d926a-a13f-41f8-a065-5856608f8395"
      },
      "source": [
        "#numero de stopwords por mensaje\n",
        "from wordcloud import STOPWORDS\n",
        "df[\"Stopwords\"] = df.text.apply(lambda x: len([w for w in str(x).lower().split() if w in STOPWORDS]))\n",
        "\n",
        "plt.figure(figsize=(8, 6))\n",
        "train.text.loc[train.target==1].apply(lambda x: len([w for w in str(x).lower().split() if w in STOPWORDS])).plot(bins=20, kind='hist', color='blue', label='Positive', alpha=0.4)\n",
        "train.text.loc[train.target==0].apply(lambda x: len([w for w in str(x).lower().split() if w in STOPWORDS])).plot(bins=20, kind='hist', color='red', label='Negative', alpha=0.2)\n",
        "plt.legend()\n",
        "plt.xlabel(\"Count Stopwords\")\n",
        "\n",
        "print('Como podemos ver el número de stopwords entre las reviews positivas y negativas ')\n",
        "print('en el dataset de entrenamiento presenta una media similar, sin embargo la media de las')\n",
        "print('reviews positivas parece ser ligeramente menor a la de las reviews negativas')"
      ],
      "id": "corrected-amazon",
      "execution_count": 18,
      "outputs": [
        {
          "output_type": "stream",
          "text": [
            "Como podemos ver el número de stopwords entre las reviews positivas y negativas \n",
            "en el dataset de entrenamiento presenta una media similar, sin embargo la media de las\n",
            "reviews positivas parece ser ligeramente menor a la de las reviews negativas\n"
          ],
          "name": "stdout"
        },
        {
          "output_type": "display_data",
          "data": {
            "image/png": "[encoded data removed]",
            "text/plain": [
              "<Figure size 576x432 with 1 Axes>"
            ]
          },
          "metadata": {
            "tags": []
          }
        }
      ]
    },
    {
      "cell_type": "code",
      "metadata": {
        "execution": {
          "iopub.execute_input": "2021-04-18T17:02:26.252206Z",
          "iopub.status.busy": "2021-04-18T17:02:26.251452Z",
          "iopub.status.idle": "2021-04-18T17:02:26.254956Z",
          "shell.execute_reply": "2021-04-18T17:02:26.254369Z"
        },
        "papermill": {
          "duration": 0.082268,
          "end_time": "2021-04-18T17:02:26.255104",
          "exception": false,
          "start_time": "2021-04-18T17:02:26.172836",
          "status": "completed"
        },
        "tags": [],
        "id": "virtual-collectible"
      },
      "source": [
        "# Se separan de nuevo las datasets de entrenamiento y validación\n",
        "train = df[:ntrain]\n",
        "test = df[ntrain:]\n",
        "train.to_csv( 'Train_Cleaned.csv',index= False)\n",
        "train.to_csv( 'Test_Cleaned.csv',index= False)\n",
        "df.to_csv( 'Data_Cleaned.csv',index= False)"
      ],
      "id": "virtual-collectible",
      "execution_count": 23,
      "outputs": []
    },
    {
      "cell_type": "markdown",
      "metadata": {
        "papermill": {
          "duration": 0.071472,
          "end_time": "2021-04-18T17:02:26.397189",
          "exception": false,
          "start_time": "2021-04-18T17:02:26.325717",
          "status": "completed"
        },
        "tags": [],
        "id": "chinese-fifteen"
      },
      "source": [
        "Para la generación de los modelos se utilizaron los textos provesados alojados en la variable Clean_text"
      ],
      "id": "chinese-fifteen"
    },
    {
      "cell_type": "code",
      "metadata": {
        "execution": {
          "iopub.execute_input": "2021-04-18T17:02:26.551914Z",
          "iopub.status.busy": "2021-04-18T17:02:26.551187Z",
          "iopub.status.idle": "2021-04-18T17:02:26.553911Z",
          "shell.execute_reply": "2021-04-18T17:02:26.554538Z"
        },
        "papermill": {
          "duration": 0.081746,
          "end_time": "2021-04-18T17:02:26.554749",
          "exception": false,
          "start_time": "2021-04-18T17:02:26.473003",
          "status": "completed"
        },
        "tags": [],
        "id": "oriental-slovakia"
      },
      "source": [
        "#function to process each text seperatly \n",
        "def create_corpus(target):\n",
        "    corpus=[]\n",
        "    \n",
        "    for x in train[train['target']==target]['clean_txt'].str.split():\n",
        "        for i in x:\n",
        "            corpus.append(i)\n",
        "    return corpus"
      ],
      "id": "oriental-slovakia",
      "execution_count": 25,
      "outputs": []
    },
    {
      "cell_type": "code",
      "metadata": {
        "execution": {
          "iopub.execute_input": "2021-04-18T17:02:26.703667Z",
          "iopub.status.busy": "2021-04-18T17:02:26.702983Z",
          "iopub.status.idle": "2021-04-18T17:02:26.740157Z",
          "shell.execute_reply": "2021-04-18T17:02:26.740673Z"
        },
        "papermill": {
          "duration": 0.112051,
          "end_time": "2021-04-18T17:02:26.740891",
          "exception": false,
          "start_time": "2021-04-18T17:02:26.628840",
          "status": "completed"
        },
        "tags": [],
        "id": "falling-error",
        "colab": {
          "base_uri": "https://localhost:8080/",
          "height": 425
        },
        "outputId": "86dece8f-9d53-48e6-b9d3-42f6c565458c"
      },
      "source": [
        "# Se hace una lista para ver la frecuencia de las palabras en las reviews negativas\n",
        "from collections import defaultdict\n",
        "\n",
        "corpus=create_corpus(0)\n",
        "\n",
        "dic=defaultdict(int)\n",
        "for word in corpus:\n",
        "        dic[word]+=1\n",
        "        \n",
        "top=sorted(dic.items(), key=lambda x:x[1],reverse=True)[:10]\n",
        "\n",
        "#plot\n",
        "plt.figure(figsize=(8, 6))\n",
        "x,y=zip(*top)\n",
        "plt.bar(x,y, color=\"red\")\n",
        "plt.title(label=\"Most common words in Negative Reviews\", fontweight='bold', fontsize= 14)\n",
        "\n",
        "print('Como podemos ver entre las palabras con mas frecuencia en las reviews negativas ')\n",
        "print('se encuentran el lugar, la comida, volver, el servicio')\n"
      ],
      "id": "falling-error",
      "execution_count": 32,
      "outputs": [
        {
          "output_type": "stream",
          "text": [
            "Como podemos ver entre las palabras con mas frecuencia en las reviews negativas \n",
            "se encuentran el lugar, la comida, volver, el servicio\n"
          ],
          "name": "stdout"
        },
        {
          "output_type": "display_data",
          "data": {
            "image/png": "[encoded data removed]",
            "text/plain": [
              "<Figure size 576x432 with 1 Axes>"
            ]
          },
          "metadata": {
            "tags": []
          }
        }
      ]
    },
    {
      "cell_type": "code",
      "metadata": {
        "execution": {
          "iopub.execute_input": "2021-04-18T17:02:27.253873Z",
          "iopub.status.busy": "2021-04-18T17:02:27.253160Z",
          "iopub.status.idle": "2021-04-18T17:02:27.285488Z",
          "shell.execute_reply": "2021-04-18T17:02:27.286037Z"
        },
        "papermill": {
          "duration": 0.108752,
          "end_time": "2021-04-18T17:02:27.286245",
          "exception": false,
          "start_time": "2021-04-18T17:02:27.177493",
          "status": "completed"
        },
        "tags": [],
        "id": "packed-russian",
        "colab": {
          "base_uri": "https://localhost:8080/",
          "height": 442
        },
        "outputId": "2127b3a8-b869-4edd-95e5-7d6327a07b33"
      },
      "source": [
        "# Se hace una lista para ver la frecuencia de las palabras en las reviews positivas\n",
        "corpus=create_corpus(1)\n",
        "\n",
        "dic=defaultdict(int)\n",
        "for word in corpus:\n",
        "        dic[word]+=1\n",
        "        \n",
        "top=sorted(dic.items(), key=lambda x:x[1],reverse=True)[:10]\n",
        "\n",
        "#plot\n",
        "plt.figure(figsize=(8, 6))\n",
        "x,y=zip(*top)\n",
        "plt.bar(x,y, color=\"blue\", )\n",
        "plt.title(label=\"Most common words in Positive Reviews\", fontweight='bold', fontsize= 14)\n",
        "\n",
        "print('Como podemos ver entre las palabras con mas frecuencia en las reviews positivas ')\n",
        "print('se encuentran los adjetivos bueno, grandioso. Además, se encuentran palabras esperadas tales como')\n",
        "print('comida, lugar y servicio')\n"
      ],
      "id": "packed-russian",
      "execution_count": 33,
      "outputs": [
        {
          "output_type": "stream",
          "text": [
            "Como podemos ver entre las palabras con mas frecuencia en las reviews positivas \n",
            "se encuentran los adjetivos bueno, grandioso. Además, se encuentran palabras esperadas tales como\n",
            "comida, lugar y servicio\n"
          ],
          "name": "stdout"
        },
        {
          "output_type": "display_data",
          "data": {
            "image/png": "[encoded data removed]",
            "text/plain": [
              "<Figure size 576x432 with 1 Axes>"
            ]
          },
          "metadata": {
            "tags": []
          }
        }
      ]
    },
    {
      "cell_type": "markdown",
      "metadata": {
        "papermill": {
          "duration": 0.057319,
          "end_time": "2021-04-18T17:02:17.365273",
          "exception": false,
          "start_time": "2021-04-18T17:02:17.307954",
          "status": "completed"
        },
        "tags": [],
        "id": "96y9Y4QvCtGU"
      },
      "source": [
        "# 2. Generación de modelos usando **_R_**"
      ],
      "id": "96y9Y4QvCtGU"
    },
    {
      "cell_type": "code",
      "metadata": {
        "id": "0LmTXzTpCsH8"
      },
      "source": [
        "# Activando R magic \n",
        "%load_ext rpy2.ipython"
      ],
      "id": "0LmTXzTpCsH8",
      "execution_count": 2,
      "outputs": []
    },
    {
      "cell_type": "code",
      "metadata": {
        "id": "tUeDaKhJG2Ct"
      },
      "source": [
        "%%R \n",
        "if(!require(tidyverse)) install.packages('tidyverse')\n",
        "if(!require(text2vec)) install.packages('text2vec')\n",
        "if(!require(glmnet)) install.packages('glmnet')\n",
        "if(!require(MLmetrics)) install.packages('MLmetrics')\n",
        "if(!require(MLmetrics)) install.packages('MLmetrics')\n",
        "if(!require(tm)) install.packages('tm')\n",
        "if(!require(SnowballC)) install.packages('SnowballC')\n",
        "if(!require(e1071)) install.packages('e1071')\n",
        "if(!require(caret)) install.packages('caret')\n",
        "if(!require(rpart)) install.packages('rpart')\n",
        "\n",
        "\n",
        "library(rpart)\n",
        "library(e1071)\n",
        "library(tidyverse)\n",
        "library(text2vec) # text vectorization\n",
        "library(glmnet) # building model cv.gmlnet()\n",
        "library(tm)\n",
        "library(SnowballC)\n",
        "library(caret)\n"
      ],
      "id": "tUeDaKhJG2Ct",
      "execution_count": 4,
      "outputs": []
    },
    {
      "cell_type": "code",
      "metadata": {
        "id": "iNkc1-FXDk0S"
      },
      "source": [
        "%%R\n",
        "#cargando la data Train\n",
        "Data_Yelp_train = read.csv(\"https://raw.githubusercontent.com/capajaro/Quiz--4/main/Train_Cleaned.csv\")\n",
        "Data_Yelp_Cleaned_train = Data_Yelp_train[c(\"clean_txt\", \"target\")]\n",
        "colnames(Data_Yelp_Cleaned_train) = c(\"text\", \"target\")\n",
        "id = 1:nrow(Data_Yelp_Cleaned_train)\n",
        "Data_Yelp_Cleaned_train = cbind(id,Data_Yelp_Cleaned_train)\n",
        "Data_Yelp_Cleaned_train$target = as.factor(Data_Yelp_Cleaned_train$target)\n",
        "\n",
        "# Creando la matriz de palabras\n",
        "corpus = Corpus(VectorSource(Data_Yelp_Cleaned_train$text))\n",
        "frequencies = DocumentTermMatrix(corpus)\n",
        "\n",
        "Matrix_train = as.data.frame(as.matrix(frequencies))\n",
        "colnames(Matrix_train)= make.names(colnames(frequencies))\n",
        "Matrix_train$target = as.factor(Data_Yelp_Cleaned_train$target)\n"
      ],
      "id": "iNkc1-FXDk0S",
      "execution_count": 27,
      "outputs": []
    },
    {
      "cell_type": "code",
      "metadata": {
        "id": "8rq71Lw6DMXr"
      },
      "source": [
        "%%R\n",
        "\n",
        "#cargando la data Test\n",
        "Data_Yelp_test = read.csv(\"https://raw.githubusercontent.com/capajaro/Quiz--4/main/Test_Cleaned.csv\")\n",
        "Data_Yelp_Cleaned_test = cbind(Data_Yelp_test[\"clean_txt\"],Data_Yelp_test[\"target\"])\n",
        "colnames(Data_Yelp_Cleaned_test) = c(\"text\", \"target\")\n",
        "id = 1:nrow(Data_Yelp_Cleaned_test)\n",
        "Data_Yelp_Cleaned_test = as.data.frame(cbind(id,Data_Yelp_Cleaned_test))\n",
        "\n",
        "# Creando la matriz de palabras\n",
        "corpus = Corpus(VectorSource(Data_Yelp_Cleaned_test$text))\n",
        "frequencies = DocumentTermMatrix(corpus)\n",
        "\n",
        "Matrix_test = as.data.frame(as.matrix(frequencies))\n",
        "colnames(Matrix_test)= make.names(colnames(frequencies))\n",
        "Matrix_test$target = as.factor(Data_Yelp_Cleaned_test$target)\n"
      ],
      "id": "8rq71Lw6DMXr",
      "execution_count": 28,
      "outputs": []
    },
    {
      "cell_type": "code",
      "metadata": {
        "id": "iUZLhQu8GCWG",
        "colab": {
          "base_uri": "https://localhost:8080/"
        },
        "outputId": "dfbf5c1a-5a1f-46a6-e8dc-8267411d4bc5"
      },
      "source": [
        "%%R\n",
        "Matrix_train$next. = NULL\n",
        "Matrix_train$else. = NULL\n",
        "modelo_svm <- svm(formula = target ~., data = Matrix_train, kernel = \"linear\",\n",
        "                  cost = 10, scale = FALSE)\n",
        "\n",
        "predictSVM=predict(modelo_svm,newdata=Matrix_test)\n",
        "\n",
        "TP_Sp = as.data.frame(table(Matrix_test$target, predictSVM))$Freq[4]\n",
        "TF_Sp = as.data.frame(table(Matrix_test$target, predictSVM))$Freq[1]\n",
        "paste0(\"Accuracy SVM = \" ,\": \",signif(100*(TP_Sp+TF_Sp)/nrow(Matrix_test), digits = 4), \" %\")\n"
      ],
      "id": "iUZLhQu8GCWG",
      "execution_count": 29,
      "outputs": [
        {
          "output_type": "stream",
          "text": [
            "[1] \"Accuracy SVM = : 99.57 %\"\n"
          ],
          "name": "stdout"
        }
      ]
    },
    {
      "cell_type": "code",
      "metadata": {
        "id": "x4EeLm82fjj7",
        "colab": {
          "base_uri": "https://localhost:8080/"
        },
        "outputId": "5f690176-f4e8-415a-8e26-c6e52a27ac3a"
      },
      "source": [
        "%%R\n",
        "Matrix_train$next. = NULL\n",
        "Matrix_train$else. = NULL\n",
        "\n",
        "modelo_rpart = rpart(target ~ ., data=Matrix_train, method=\"class\")\n",
        "\n",
        "predictRpart=predict(modelo_rpart,newdata=Matrix_test,type=\"class\")\n",
        "\n",
        "TP_Sp = as.data.frame(table(Matrix_test$target, predictRpart))$Freq[4]\n",
        "TF_Sp = as.data.frame(table(Matrix_test$target, predictRpart))$Freq[1]\n",
        "paste0(\"Accuracy Rpart = \" ,\": \",signif(100*(TP_Sp+TF_Sp)/nrow(Matrix_test), digits = 4), \" %\")\n"
      ],
      "id": "x4EeLm82fjj7",
      "execution_count": 31,
      "outputs": [
        {
          "output_type": "stream",
          "text": [
            "[1] \"Accuracy Rpart = : 73.29 %\"\n"
          ],
          "name": "stdout"
        }
      ]
    },
    {
      "cell_type": "code",
      "metadata": {
        "id": "n7wkN-y5fi-v",
        "colab": {
          "base_uri": "https://localhost:8080/"
        },
        "outputId": "75cd73c8-6795-4e9d-ad77-c40197c64ca7"
      },
      "source": [
        "%%R\n",
        "Matrix_train$next. = NULL\n",
        "Matrix_train$else. = NULL\n",
        "set.seed(123)\n",
        "modelo_Lasso <- train(\n",
        "  target ~., data = Matrix_train, method = \"glmnet\",\n",
        "  trControl = trainControl(\"cv\", number = 30),\n",
        "  tuneLength = 30\n",
        ")\n",
        "\n",
        "predict_Lasso=predict(modelo_Lasso,newdata=Matrix_test)\n",
        "\n",
        "TP_Sp = as.data.frame(table(Matrix_test$target, predict_Lasso))$Freq[4]\n",
        "TF_Sp = as.data.frame(table(Matrix_test$target, predict_Lasso))$Freq[1]\n",
        "paste0(\"Accuracy Lasso = \" ,\": \",signif(100*(TP_Sp+TF_Sp)/nrow(Matrix_test), digits = 4), \" %\")\n"
      ],
      "id": "n7wkN-y5fi-v",
      "execution_count": 32,
      "outputs": [
        {
          "output_type": "stream",
          "text": [
            "[1] \"Accuracy Lasso = : 98 %\"\n"
          ],
          "name": "stdout"
        }
      ]
    },
    {
      "cell_type": "markdown",
      "metadata": {
        "id": "B4EuDzw-xHQX"
      },
      "source": [
        "Como podemos notar el modelo de SVM presenta la mayor precisión de los modelos testeados, y de mas del 99%. El modelo SVM es el que se recomienda para el analisis de las reviews de los restaurantes."
      ],
      "id": "B4EuDzw-xHQX"
    }
  ]
}